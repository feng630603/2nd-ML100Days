{
 "cells": [
  {
   "cell_type": "code",
   "execution_count": null,
   "metadata": {},
   "outputs": [],
   "source": [
    "作業\n",
    "在精簡深度學習的方式上 : 卷積類神經 (CNN) 採用像素遠近，而遞歸類神經 (RNN) 採用著則是時間遠近\n",
    "那麼，既然有著類似的設計精神，兩者是否有可能互換應用呢?\n",
    "\n",
    "答:\n",
    "相同點：\n",
    "\n",
    "1. 傳統神經網絡的擴展。\n",
    "\n",
    "2. 前向計算產生結果，反向計算模型更新。\n",
    "\n",
    "3. 每層神經網絡橫向可以多個神經元共存,縱向可以有多層神經網絡連接。\n",
    "\n",
    "不同點\n",
    "\n",
    "1. CNN空間擴展，神經元與特徵卷積；RNN時間擴展，神經元與多個時間輸出計算\n",
    "\n",
    "2. RNN可以用於描述時間上連續狀態的輸出，有記憶功能，CNN用於靜態輸出\n",
    "\n",
    "3. CNN高級100+深度，RNN深度有限\n",
    "\n",
    "CNN+RNN組合方式\n",
    "1. CNN 特徵提取，用於RNN語句生成圖片標註。\n",
    "2. RNN特徵提取用於CNN內容分類視頻分類。\n",
    "3. CNN特徵提取用於對話問答圖片問答。\n",
    "\n",
    "RNN用於CNN特徵篩選＋融合：\n",
    "\n",
    "1. 並不是所有的視頻 圖像包含確定分類信息\n",
    "2. RNN用於確定哪些frame 是有用的\n",
    "3. 對有用的圖像特徵 融合。\n",
    "\n",
    "RNN用於目標檢測：\n",
    "1. CNN直接產生目標候選區\n",
    "2. LSTM對產生候選區融合（相鄰時刻位置近 似）\n",
    "3. 確定最終的精確位置。\n",
    "\n",
    "\n",
    "\n",
    "原文網址：https://kknews.cc/other/p9exoyz.html\n",
    "\n",
    "原文網址：https://kknews.cc/other/p9exoyz.html"
   ]
  }
 ],
 "metadata": {
  "kernelspec": {
   "display_name": "Python 3",
   "language": "python",
   "name": "python3"
  },
  "language_info": {
   "codemirror_mode": {
    "name": "ipython",
    "version": 3
   },
   "file_extension": ".py",
   "mimetype": "text/x-python",
   "name": "python",
   "nbconvert_exporter": "python",
   "pygments_lexer": "ipython3",
   "version": "3.7.3"
  }
 },
 "nbformat": 4,
 "nbformat_minor": 2
}

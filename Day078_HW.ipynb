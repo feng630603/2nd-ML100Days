{
 "cells": [
  {
   "cell_type": "code",
   "execution_count": 1,
   "metadata": {},
   "outputs": [],
   "source": [
    "#Work\n",
    "#請嘗試將 preproc_x 替換成以每筆資料的 min/max 進行標準化至 -1 ~ 1 間，再進行訓練\n",
    "#請嘗試將 mlp 疊更深 (e.g 5~10 層)，進行訓練後觀察 learning curve 的走勢\n",
    "#(optional) 請改用 GPU 進行訓練 (如果你有 GPU 的話)，比較使用 CPU 與 GPU 的訓練速度"
   ]
  },
  {
   "cell_type": "code",
   "execution_count": 15,
   "metadata": {},
   "outputs": [
    {
     "data": {
      "text/plain": [
       "'\\nYour code here (optional)\\n確認硬體資源\\n'"
      ]
     },
     "execution_count": 15,
     "metadata": {},
     "output_type": "execute_result"
    }
   ],
   "source": [
    "\n",
    "## \n",
    "\"\"\"\n",
    "Your code here (optional)\n",
    "確認硬體資源\n",
    "\"\"\"\n",
    "#!nvidia-smi"
   ]
  },
  {
   "cell_type": "code",
   "execution_count": 16,
   "metadata": {},
   "outputs": [],
   "source": [
    "import os\n",
    "import keras\n",
    "\n",
    "# 請嘗試設定 GPU：os.environ\n",
    "os.environ[\"CUDA_VISIBLE_DEVICES\"] = \"\""
   ]
  },
  {
   "cell_type": "code",
   "execution_count": 17,
   "metadata": {},
   "outputs": [],
   "source": [
    "train, test = keras.datasets.cifar10.load_data()"
   ]
  },
  {
   "cell_type": "code",
   "execution_count": 32,
   "metadata": {},
   "outputs": [],
   "source": [
    "## 資料前處理\n",
    "def preproc_min(x, flatten=True):\n",
    "    x = x / 255.\n",
    "    if flatten:\n",
    "        x = x.reshape((len(x), -1))\n",
    "    return x\n",
    "\n",
    "def preproc_min(y, num_classes=10):\n",
    "    if y.shape[-1] == 1:\n",
    "        y = keras.utils.to_categorical(y, num_classes)\n",
    "    return y    "
   ]
  },
  {
   "cell_type": "code",
   "execution_count": 33,
   "metadata": {},
   "outputs": [],
   "source": [
    "x_train, y_train = train\n",
    "x_test, y_test = test\n",
    "\n",
    "# 資料前處理 - X 標準化\n",
    "x_train = preproc_x(x_train)\n",
    "x_test = preproc_x(x_test)\n",
    "\n",
    "# 資料前處理 -Y 轉成 onehot\n",
    "y_train = preproc_y(y_train)\n",
    "y_test = preproc_y(y_test)"
   ]
  },
  {
   "cell_type": "code",
   "execution_count": 34,
   "metadata": {},
   "outputs": [],
   "source": [
    "\"\"\"Code Here\n",
    "建立你的神經網路\n",
    "\"\"\"\n",
    "def build_mlp(input_shape, output_units=10, num_neurons=[1024,512, 256, 128]):\n",
    "    input_layer = keras.layers.Input(input_shape)\n",
    "    \n",
    "    for i, n_units in enumerate(num_neurons):\n",
    "        if i == 0:\n",
    "            x = keras.layers.Dense(units=n_units, activation=\"relu\", name=\"hidden_layer\"+str(i+1))(input_layer)\n",
    "        else:\n",
    "            x = keras.layers.Dense(units=n_units, activation=\"relu\", name=\"hidden_layer\"+str(i+1))(x)\n",
    "    \n",
    "    out = keras.layers.Dense(units=output_units, activation=\"softmax\", name=\"output\")(x)\n",
    "    \n",
    "    model = keras.models.Model(inputs=[input_layer], outputs=[out])\n",
    "    return model"
   ]
  },
  {
   "cell_type": "code",
   "execution_count": 35,
   "metadata": {},
   "outputs": [
    {
     "name": "stdout",
     "output_type": "stream",
     "text": [
      "_________________________________________________________________\n",
      "Layer (type)                 Output Shape              Param #   \n",
      "=================================================================\n",
      "input_4 (InputLayer)         (None, 3072)              0         \n",
      "_________________________________________________________________\n",
      "hidden_layer1 (Dense)        (None, 1024)              3146752   \n",
      "_________________________________________________________________\n",
      "hidden_layer2 (Dense)        (None, 512)               524800    \n",
      "_________________________________________________________________\n",
      "hidden_layer3 (Dense)        (None, 256)               131328    \n",
      "_________________________________________________________________\n",
      "hidden_layer4 (Dense)        (None, 128)               32896     \n",
      "_________________________________________________________________\n",
      "output (Dense)               (None, 10)                1290      \n",
      "=================================================================\n",
      "Total params: 3,837,066\n",
      "Trainable params: 3,837,066\n",
      "Non-trainable params: 0\n",
      "_________________________________________________________________\n"
     ]
    }
   ],
   "source": [
    "model = build_mlp(input_shape=x_train.shape[1:])\n",
    "model.summary()"
   ]
  },
  {
   "cell_type": "code",
   "execution_count": 36,
   "metadata": {},
   "outputs": [],
   "source": [
    "## 超參數設定\n",
    "LEARNING_RATE = 0.001\n",
    "EPOCHS = 100\n",
    "BATCH_SIZE = 256"
   ]
  },
  {
   "cell_type": "code",
   "execution_count": 37,
   "metadata": {},
   "outputs": [],
   "source": [
    "optimizer = keras.optimizers.Adam(lr=LEARNING_RATE)\n",
    "model.compile(loss=\"categorical_crossentropy\", metrics=[\"accuracy\"], optimizer=optimizer)"
   ]
  },
  {
   "cell_type": "code",
   "execution_count": 38,
   "metadata": {},
   "outputs": [
    {
     "name": "stdout",
     "output_type": "stream",
     "text": [
      "Train on 50000 samples, validate on 10000 samples\n",
      "Epoch 1/100\n",
      "50000/50000 [==============================] - 27s 539us/step - loss: 1.9660 - acc: 0.2828 - val_loss: 1.7954 - val_acc: 0.3385\n",
      "Epoch 2/100\n",
      "50000/50000 [==============================] - 23s 456us/step - loss: 1.7263 - acc: 0.3743 - val_loss: 1.6594 - val_acc: 0.4024\n",
      "Epoch 3/100\n",
      "50000/50000 [==============================] - 23s 459us/step - loss: 1.6284 - acc: 0.4163 - val_loss: 1.5806 - val_acc: 0.4386\n",
      "Epoch 4/100\n",
      "50000/50000 [==============================] - 23s 460us/step - loss: 1.5494 - acc: 0.4441 - val_loss: 1.5185 - val_acc: 0.4584\n",
      "Epoch 5/100\n",
      "50000/50000 [==============================] - 23s 463us/step - loss: 1.5063 - acc: 0.4608 - val_loss: 1.4773 - val_acc: 0.4755\n",
      "Epoch 6/100\n",
      "50000/50000 [==============================] - 23s 463us/step - loss: 1.4612 - acc: 0.4756 - val_loss: 1.4559 - val_acc: 0.4905\n",
      "Epoch 7/100\n",
      "50000/50000 [==============================] - 23s 461us/step - loss: 1.4207 - acc: 0.4941 - val_loss: 1.4474 - val_acc: 0.4820\n",
      "Epoch 8/100\n",
      "50000/50000 [==============================] - 23s 460us/step - loss: 1.3869 - acc: 0.5065 - val_loss: 1.4582 - val_acc: 0.4806\n",
      "Epoch 9/100\n",
      "50000/50000 [==============================] - 23s 458us/step - loss: 1.3618 - acc: 0.5138 - val_loss: 1.4476 - val_acc: 0.4903\n",
      "Epoch 10/100\n",
      "50000/50000 [==============================] - 23s 460us/step - loss: 1.3274 - acc: 0.5241 - val_loss: 1.4000 - val_acc: 0.5023\n",
      "Epoch 11/100\n",
      "50000/50000 [==============================] - 23s 458us/step - loss: 1.2995 - acc: 0.5365 - val_loss: 1.3853 - val_acc: 0.5073\n",
      "Epoch 12/100\n",
      "50000/50000 [==============================] - 23s 457us/step - loss: 1.2730 - acc: 0.5433 - val_loss: 1.3805 - val_acc: 0.5153\n",
      "Epoch 13/100\n",
      "50000/50000 [==============================] - 23s 463us/step - loss: 1.2393 - acc: 0.5576 - val_loss: 1.4055 - val_acc: 0.5019\n",
      "Epoch 14/100\n",
      "50000/50000 [==============================] - 23s 461us/step - loss: 1.2169 - acc: 0.5655 - val_loss: 1.3923 - val_acc: 0.5088\n",
      "Epoch 15/100\n",
      "50000/50000 [==============================] - 23s 457us/step - loss: 1.1841 - acc: 0.5762 - val_loss: 1.3836 - val_acc: 0.5114\n",
      "Epoch 16/100\n",
      "50000/50000 [==============================] - 23s 465us/step - loss: 1.1607 - acc: 0.5836 - val_loss: 1.3614 - val_acc: 0.5230\n",
      "Epoch 17/100\n",
      "50000/50000 [==============================] - 23s 460us/step - loss: 1.1237 - acc: 0.5974 - val_loss: 1.3675 - val_acc: 0.5219\n",
      "Epoch 18/100\n",
      "50000/50000 [==============================] - 23s 462us/step - loss: 1.0948 - acc: 0.6069 - val_loss: 1.3535 - val_acc: 0.5301\n",
      "Epoch 19/100\n",
      "50000/50000 [==============================] - 23s 467us/step - loss: 1.0725 - acc: 0.6153 - val_loss: 1.4203 - val_acc: 0.5180\n",
      "Epoch 20/100\n",
      "50000/50000 [==============================] - 23s 469us/step - loss: 1.0446 - acc: 0.6267 - val_loss: 1.3737 - val_acc: 0.5274\n",
      "Epoch 21/100\n",
      "50000/50000 [==============================] - 23s 465us/step - loss: 1.0195 - acc: 0.6322 - val_loss: 1.3956 - val_acc: 0.5335\n",
      "Epoch 22/100\n",
      "50000/50000 [==============================] - 23s 468us/step - loss: 0.9893 - acc: 0.6451 - val_loss: 1.4275 - val_acc: 0.5182\n",
      "Epoch 23/100\n",
      "50000/50000 [==============================] - 23s 463us/step - loss: 0.9597 - acc: 0.6543 - val_loss: 1.4296 - val_acc: 0.5254\n",
      "Epoch 24/100\n",
      "50000/50000 [==============================] - 23s 464us/step - loss: 0.9359 - acc: 0.6640 - val_loss: 1.4413 - val_acc: 0.5229\n",
      "Epoch 25/100\n",
      "50000/50000 [==============================] - 23s 465us/step - loss: 0.9095 - acc: 0.6753 - val_loss: 1.4561 - val_acc: 0.5300\n",
      "Epoch 26/100\n",
      "50000/50000 [==============================] - 24s 470us/step - loss: 0.8708 - acc: 0.6869 - val_loss: 1.4543 - val_acc: 0.5303\n",
      "Epoch 27/100\n",
      "50000/50000 [==============================] - 23s 465us/step - loss: 0.8509 - acc: 0.6942 - val_loss: 1.4976 - val_acc: 0.5240\n",
      "Epoch 28/100\n",
      "50000/50000 [==============================] - 23s 463us/step - loss: 0.8258 - acc: 0.7034 - val_loss: 1.5317 - val_acc: 0.5276\n",
      "Epoch 29/100\n",
      "50000/50000 [==============================] - 23s 467us/step - loss: 0.7848 - acc: 0.7180 - val_loss: 1.5121 - val_acc: 0.5362\n",
      "Epoch 30/100\n",
      "50000/50000 [==============================] - 23s 464us/step - loss: 0.7741 - acc: 0.7224 - val_loss: 1.5769 - val_acc: 0.5275\n",
      "Epoch 31/100\n",
      "50000/50000 [==============================] - 23s 469us/step - loss: 0.7289 - acc: 0.7390 - val_loss: 1.5925 - val_acc: 0.5316\n",
      "Epoch 32/100\n",
      "50000/50000 [==============================] - 24s 472us/step - loss: 0.7119 - acc: 0.7443 - val_loss: 1.6243 - val_acc: 0.5290\n",
      "Epoch 33/100\n",
      "50000/50000 [==============================] - 23s 467us/step - loss: 0.6695 - acc: 0.7603 - val_loss: 1.7102 - val_acc: 0.5233\n",
      "Epoch 34/100\n",
      "50000/50000 [==============================] - 23s 468us/step - loss: 0.6754 - acc: 0.7568 - val_loss: 1.7295 - val_acc: 0.5142\n",
      "Epoch 35/100\n",
      "50000/50000 [==============================] - 23s 467us/step - loss: 0.6302 - acc: 0.7741 - val_loss: 1.7626 - val_acc: 0.5189\n",
      "Epoch 36/100\n",
      "50000/50000 [==============================] - 24s 477us/step - loss: 0.6037 - acc: 0.7822 - val_loss: 1.7722 - val_acc: 0.5233\n",
      "Epoch 37/100\n",
      "50000/50000 [==============================] - 24s 481us/step - loss: 0.5824 - acc: 0.7905 - val_loss: 1.9142 - val_acc: 0.5106\n",
      "Epoch 38/100\n",
      "50000/50000 [==============================] - 24s 476us/step - loss: 0.5628 - acc: 0.7979 - val_loss: 1.9159 - val_acc: 0.5251\n",
      "Epoch 39/100\n",
      "50000/50000 [==============================] - 24s 480us/step - loss: 0.5367 - acc: 0.8082 - val_loss: 1.9768 - val_acc: 0.5146\n",
      "Epoch 40/100\n",
      "50000/50000 [==============================] - 24s 477us/step - loss: 0.5294 - acc: 0.8101 - val_loss: 1.9890 - val_acc: 0.5125\n",
      "Epoch 41/100\n",
      "50000/50000 [==============================] - 24s 480us/step - loss: 0.5050 - acc: 0.8188 - val_loss: 1.9919 - val_acc: 0.5246\n",
      "Epoch 42/100\n",
      "50000/50000 [==============================] - 24s 475us/step - loss: 0.4803 - acc: 0.8271 - val_loss: 2.1011 - val_acc: 0.5210\n",
      "Epoch 43/100\n",
      "50000/50000 [==============================] - 24s 475us/step - loss: 0.4916 - acc: 0.8222 - val_loss: 2.1375 - val_acc: 0.5159\n",
      "Epoch 44/100\n",
      "50000/50000 [==============================] - 24s 482us/step - loss: 0.4610 - acc: 0.8346 - val_loss: 2.2227 - val_acc: 0.5174\n",
      "Epoch 45/100\n",
      "50000/50000 [==============================] - 24s 479us/step - loss: 0.4177 - acc: 0.8514 - val_loss: 2.2763 - val_acc: 0.5192\n",
      "Epoch 46/100\n",
      "50000/50000 [==============================] - 24s 480us/step - loss: 0.4277 - acc: 0.8465 - val_loss: 2.2428 - val_acc: 0.5195\n",
      "Epoch 47/100\n",
      "50000/50000 [==============================] - 24s 480us/step - loss: 0.4241 - acc: 0.8481 - val_loss: 2.3397 - val_acc: 0.5087\n",
      "Epoch 48/100\n",
      "50000/50000 [==============================] - 24s 480us/step - loss: 0.4234 - acc: 0.8474 - val_loss: 2.2530 - val_acc: 0.5096\n",
      "Epoch 49/100\n",
      "50000/50000 [==============================] - 24s 475us/step - loss: 0.3825 - acc: 0.8626 - val_loss: 2.4047 - val_acc: 0.5133\n",
      "Epoch 50/100\n",
      "50000/50000 [==============================] - 24s 471us/step - loss: 0.3788 - acc: 0.8654 - val_loss: 2.4396 - val_acc: 0.5211\n",
      "Epoch 51/100\n",
      "50000/50000 [==============================] - 24s 482us/step - loss: 0.3537 - acc: 0.8737 - val_loss: 2.4959 - val_acc: 0.5220\n",
      "Epoch 52/100\n",
      "50000/50000 [==============================] - 24s 484us/step - loss: 0.3415 - acc: 0.8777 - val_loss: 2.5221 - val_acc: 0.5219\n",
      "Epoch 53/100\n",
      "50000/50000 [==============================] - 24s 482us/step - loss: 0.3320 - acc: 0.8813 - val_loss: 2.6045 - val_acc: 0.5222\n",
      "Epoch 54/100\n",
      "50000/50000 [==============================] - 24s 486us/step - loss: 0.3458 - acc: 0.8759 - val_loss: 2.6216 - val_acc: 0.5045\n",
      "Epoch 55/100\n",
      "50000/50000 [==============================] - 24s 486us/step - loss: 0.3232 - acc: 0.8835 - val_loss: 2.6350 - val_acc: 0.5178\n",
      "Epoch 56/100\n",
      "50000/50000 [==============================] - 24s 487us/step - loss: 0.3480 - acc: 0.8765 - val_loss: 2.6925 - val_acc: 0.5027\n",
      "Epoch 57/100\n",
      "50000/50000 [==============================] - 24s 478us/step - loss: 0.3230 - acc: 0.8829 - val_loss: 2.7913 - val_acc: 0.5130\n",
      "Epoch 58/100\n",
      "50000/50000 [==============================] - 24s 483us/step - loss: 0.2905 - acc: 0.8960 - val_loss: 2.8044 - val_acc: 0.5172\n"
     ]
    },
    {
     "name": "stdout",
     "output_type": "stream",
     "text": [
      "Epoch 59/100\n",
      "50000/50000 [==============================] - 23s 455us/step - loss: 0.2801 - acc: 0.9000 - val_loss: 2.8199 - val_acc: 0.5141\n",
      "Epoch 60/100\n",
      "50000/50000 [==============================] - 23s 454us/step - loss: 0.2983 - acc: 0.8929 - val_loss: 2.8338 - val_acc: 0.5125\n",
      "Epoch 61/100\n",
      "50000/50000 [==============================] - 23s 454us/step - loss: 0.2867 - acc: 0.8991 - val_loss: 2.9219 - val_acc: 0.5179\n",
      "Epoch 62/100\n",
      "50000/50000 [==============================] - 23s 451us/step - loss: 0.2720 - acc: 0.9040 - val_loss: 2.9870 - val_acc: 0.5174\n",
      "Epoch 63/100\n",
      "50000/50000 [==============================] - 22s 449us/step - loss: 0.2772 - acc: 0.9014 - val_loss: 3.0531 - val_acc: 0.5124\n",
      "Epoch 64/100\n",
      "50000/50000 [==============================] - 23s 454us/step - loss: 0.2818 - acc: 0.8998 - val_loss: 2.9711 - val_acc: 0.5137\n",
      "Epoch 65/100\n",
      "50000/50000 [==============================] - 23s 454us/step - loss: 0.2652 - acc: 0.9064 - val_loss: 3.0413 - val_acc: 0.5075\n",
      "Epoch 66/100\n",
      "50000/50000 [==============================] - 23s 455us/step - loss: 0.2470 - acc: 0.9133 - val_loss: 3.0886 - val_acc: 0.5177\n",
      "Epoch 67/100\n",
      "50000/50000 [==============================] - 23s 453us/step - loss: 0.2415 - acc: 0.9147 - val_loss: 3.1013 - val_acc: 0.5100\n",
      "Epoch 68/100\n",
      "50000/50000 [==============================] - 23s 456us/step - loss: 0.2374 - acc: 0.9154 - val_loss: 3.2337 - val_acc: 0.5038\n",
      "Epoch 69/100\n",
      "50000/50000 [==============================] - 23s 453us/step - loss: 0.2441 - acc: 0.9137 - val_loss: 3.2215 - val_acc: 0.5129\n",
      "Epoch 70/100\n",
      "50000/50000 [==============================] - 23s 455us/step - loss: 0.2391 - acc: 0.9150 - val_loss: 3.2091 - val_acc: 0.5055\n",
      "Epoch 71/100\n",
      "50000/50000 [==============================] - 23s 454us/step - loss: 0.2517 - acc: 0.9104 - val_loss: 3.2034 - val_acc: 0.5201\n",
      "Epoch 72/100\n",
      "50000/50000 [==============================] - 23s 453us/step - loss: 0.2626 - acc: 0.9083 - val_loss: 3.2113 - val_acc: 0.5123\n",
      "Epoch 73/100\n",
      "50000/50000 [==============================] - 23s 460us/step - loss: 0.2320 - acc: 0.9170 - val_loss: 3.2573 - val_acc: 0.5042\n",
      "Epoch 74/100\n",
      "50000/50000 [==============================] - 23s 455us/step - loss: 0.2110 - acc: 0.9254 - val_loss: 3.3981 - val_acc: 0.5005\n",
      "Epoch 75/100\n",
      "50000/50000 [==============================] - 23s 454us/step - loss: 0.2173 - acc: 0.9241 - val_loss: 3.3663 - val_acc: 0.5130\n",
      "Epoch 76/100\n",
      "50000/50000 [==============================] - 23s 457us/step - loss: 0.1931 - acc: 0.9321 - val_loss: 3.4060 - val_acc: 0.5009\n",
      "Epoch 77/100\n",
      "50000/50000 [==============================] - 23s 460us/step - loss: 0.2092 - acc: 0.9265 - val_loss: 3.4470 - val_acc: 0.5044\n",
      "Epoch 78/100\n",
      "50000/50000 [==============================] - 23s 465us/step - loss: 0.2474 - acc: 0.9126 - val_loss: 3.4696 - val_acc: 0.5043\n",
      "Epoch 79/100\n",
      "50000/50000 [==============================] - 23s 457us/step - loss: 0.2113 - acc: 0.9265 - val_loss: 3.4884 - val_acc: 0.5035\n",
      "Epoch 80/100\n",
      "50000/50000 [==============================] - 23s 461us/step - loss: 0.1894 - acc: 0.9321 - val_loss: 3.3964 - val_acc: 0.5100\n",
      "Epoch 81/100\n",
      "50000/50000 [==============================] - 23s 461us/step - loss: 0.1749 - acc: 0.9385 - val_loss: 3.4630 - val_acc: 0.5066\n",
      "Epoch 82/100\n",
      "50000/50000 [==============================] - 23s 461us/step - loss: 0.2130 - acc: 0.9246 - val_loss: 3.5034 - val_acc: 0.5121\n",
      "Epoch 83/100\n",
      "50000/50000 [==============================] - 23s 464us/step - loss: 0.1972 - acc: 0.9305 - val_loss: 3.5699 - val_acc: 0.5018\n",
      "Epoch 84/100\n",
      "50000/50000 [==============================] - 23s 457us/step - loss: 0.2154 - acc: 0.9236 - val_loss: 3.4916 - val_acc: 0.4980\n",
      "Epoch 85/100\n",
      "50000/50000 [==============================] - 23s 456us/step - loss: 0.2287 - acc: 0.9199 - val_loss: 3.5371 - val_acc: 0.5077\n",
      "Epoch 86/100\n",
      "50000/50000 [==============================] - 23s 462us/step - loss: 0.1564 - acc: 0.9446 - val_loss: 3.5925 - val_acc: 0.5071\n",
      "Epoch 87/100\n",
      "50000/50000 [==============================] - 23s 461us/step - loss: 0.2047 - acc: 0.9293 - val_loss: 3.5805 - val_acc: 0.5074\n",
      "Epoch 88/100\n",
      "50000/50000 [==============================] - 23s 462us/step - loss: 0.1920 - acc: 0.9339 - val_loss: 3.5793 - val_acc: 0.5062\n",
      "Epoch 89/100\n",
      "50000/50000 [==============================] - 23s 458us/step - loss: 0.1923 - acc: 0.9336 - val_loss: 3.6055 - val_acc: 0.5008\n",
      "Epoch 90/100\n",
      "50000/50000 [==============================] - 23s 462us/step - loss: 0.1808 - acc: 0.9369 - val_loss: 3.6614 - val_acc: 0.5070\n",
      "Epoch 91/100\n",
      "50000/50000 [==============================] - 23s 466us/step - loss: 0.1610 - acc: 0.9437 - val_loss: 3.7450 - val_acc: 0.5084\n",
      "Epoch 92/100\n",
      "50000/50000 [==============================] - 23s 464us/step - loss: 0.1698 - acc: 0.9415 - val_loss: 3.6764 - val_acc: 0.5011\n",
      "Epoch 93/100\n",
      "50000/50000 [==============================] - 23s 459us/step - loss: 0.2230 - acc: 0.9241 - val_loss: 3.6268 - val_acc: 0.5108\n",
      "Epoch 94/100\n",
      "50000/50000 [==============================] - 23s 467us/step - loss: 0.1687 - acc: 0.9414 - val_loss: 3.7612 - val_acc: 0.5089\n",
      "Epoch 95/100\n",
      "50000/50000 [==============================] - 23s 463us/step - loss: 0.2007 - acc: 0.9307 - val_loss: 3.6056 - val_acc: 0.5035\n",
      "Epoch 96/100\n",
      "50000/50000 [==============================] - 23s 467us/step - loss: 0.1449 - acc: 0.9502 - val_loss: 3.8572 - val_acc: 0.4988\n",
      "Epoch 97/100\n",
      "50000/50000 [==============================] - 23s 468us/step - loss: 0.1788 - acc: 0.9384 - val_loss: 3.8476 - val_acc: 0.5039\n",
      "Epoch 98/100\n",
      "50000/50000 [==============================] - 23s 470us/step - loss: 0.1503 - acc: 0.9474 - val_loss: 3.7522 - val_acc: 0.5097\n",
      "Epoch 99/100\n",
      "50000/50000 [==============================] - 23s 465us/step - loss: 0.1610 - acc: 0.9432 - val_loss: 3.8494 - val_acc: 0.5103\n",
      "Epoch 100/100\n",
      "50000/50000 [==============================] - 23s 465us/step - loss: 0.1931 - acc: 0.9349 - val_loss: 3.6876 - val_acc: 0.5117\n"
     ]
    },
    {
     "data": {
      "text/plain": [
       "<keras.callbacks.History at 0x10071da0>"
      ]
     },
     "execution_count": 38,
     "metadata": {},
     "output_type": "execute_result"
    }
   ],
   "source": [
    "model.fit(x_train, y_train, \n",
    "          epochs=EPOCHS, \n",
    "          batch_size=BATCH_SIZE, \n",
    "          validation_data=(x_test, y_test), \n",
    "          shuffle=True)"
   ]
  },
  {
   "cell_type": "code",
   "execution_count": 40,
   "metadata": {},
   "outputs": [
    {
     "data": {
      "image/png": "[encoded data removed]",
      "text/plain": [
       "<Figure size 432x288 with 1 Axes>"
      ]
     },
     "metadata": {
      "needs_background": "light"
     },
     "output_type": "display_data"
    },
    {
     "data": {
      "image/png": "[encoded data removed]",
      "text/plain": [
       "<Figure size 432x288 with 1 Axes>"
      ]
     },
     "metadata": {
      "needs_background": "light"
     },
     "output_type": "display_data"
    }
   ],
   "source": [
    "import matplotlib.pyplot as plt\n",
    "\n",
    "\n",
    "train_loss = model.history.history[\"loss\"]\n",
    "valid_loss = model.history.history[\"val_loss\"]\n",
    "\n",
    "train_acc = model.history.history[\"acc\"]\n",
    "valid_acc = model.history.history[\"val_acc\"]\n",
    "\n",
    "plt.plot(range(len(train_loss)), train_loss, label=\"train loss\")\n",
    "plt.plot(range(len(valid_loss)), valid_loss, label=\"valid loss\")\n",
    "plt.legend()\n",
    "plt.title(\"Loss\")\n",
    "plt.show()\n",
    "\n",
    "plt.plot(range(len(train_acc)), train_acc, label=\"train accuracy\")\n",
    "plt.plot(range(len(valid_acc)), valid_acc, label=\"valid accuracy\")\n",
    "plt.legend()\n",
    "plt.title(\"Accuracy\")\n",
    "plt.show()"
   ]
  },
  {
   "cell_type": "code",
   "execution_count": null,
   "metadata": {},
   "outputs": [],
   "source": []
  }
 ],
 "metadata": {
  "kernelspec": {
   "display_name": "Python 3",
   "language": "python",
   "name": "python3"
  },
  "language_info": {
   "codemirror_mode": {
    "name": "ipython",
    "version": 3
   },
   "file_extension": ".py",
   "mimetype": "text/x-python",
   "name": "python",
   "nbconvert_exporter": "python",
   "pygments_lexer": "ipython3",
   "version": "3.7.3"
  }
 },
 "nbformat": 4,
 "nbformat_minor": 2
}

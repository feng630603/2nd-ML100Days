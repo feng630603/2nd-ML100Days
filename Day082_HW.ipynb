{
 "cells": [
  {
   "cell_type": "code",
   "execution_count": 1,
   "metadata": {},
   "outputs": [],
   "source": [
    "#Work\n",
    "#請比較使用不同層數以及不同 Dropout rate 對訓練的效果\n",
    "#將 optimizer 改成使用 Adam 並加上適當的 dropout rate 檢視結果"
   ]
  },
  {
   "cell_type": "code",
   "execution_count": 2,
   "metadata": {},
   "outputs": [
    {
     "name": "stderr",
     "output_type": "stream",
     "text": [
      "Using TensorFlow backend.\n"
     ]
    }
   ],
   "source": [
    "import os\n",
    "import keras\n",
    "import itertools\n",
    "# Disable GPU\n",
    "os.environ[\"CUDA_VISIBLE_DEVICES\"] = \"\""
   ]
  },
  {
   "cell_type": "code",
   "execution_count": 3,
   "metadata": {},
   "outputs": [],
   "source": [
    "train, test = keras.datasets.cifar10.load_data()"
   ]
  },
  {
   "cell_type": "code",
   "execution_count": 4,
   "metadata": {},
   "outputs": [],
   "source": [
    "\n",
    "## 資料前處理\n",
    "def preproc_x(x, flatten=True):\n",
    "    x = x / 255.\n",
    "    if flatten:\n",
    "        x = x.reshape((len(x), -1))\n",
    "    return x\n",
    "\n",
    "def preproc_y(y, num_classes=10):\n",
    "    if y.shape[-1] == 1:\n",
    "        y = keras.utils.to_categorical(y, num_classes)\n",
    "    return y    "
   ]
  },
  {
   "cell_type": "code",
   "execution_count": 5,
   "metadata": {},
   "outputs": [],
   "source": [
    "x_train, y_train = train\n",
    "x_test, y_test = test\n",
    "\n",
    "# Preproc the inputs\n",
    "x_train = preproc_x(x_train)\n",
    "x_test = preproc_x(x_test)\n",
    "\n",
    "# Preprc the outputs\n",
    "y_train = preproc_y(y_train)\n",
    "y_test = preproc_y(y_test)"
   ]
  },
  {
   "cell_type": "code",
   "execution_count": 6,
   "metadata": {},
   "outputs": [],
   "source": [
    "from keras.layers import Dropout\n",
    "\n",
    "\"\"\"\n",
    "建立神經網路，並加入 dropout layer\n",
    "\"\"\"\n",
    "def build_mlp(input_shape, output_units=10, num_neurons=[512, 256, 128], drp_ratio=0.3):\n",
    "    input_layer = keras.layers.Input(input_shape)\n",
    "    \n",
    "    for i, n_units in enumerate(num_neurons):\n",
    "        if i == 0:\n",
    "            x = keras.layers.Dense(units=n_units, \n",
    "                                   activation=\"relu\", \n",
    "                                   name=\"hidden_layer\"+str(i+1))(input_layer)\n",
    "            x = Dropout(drp_ratio)(x)\n",
    "        else:\n",
    "            x = keras.layers.Dense(units=n_units, \n",
    "                                   activation=\"relu\", \n",
    "                                   name=\"hidden_layer\"+str(i+1))(x)\n",
    "            x = Dropout(drp_ratio)(x)\n",
    "    \n",
    "    out = keras.layers.Dense(units=output_units, activation=\"softmax\", name=\"output\")(x)\n",
    "    \n",
    "    model = keras.models.Model(inputs=[input_layer], outputs=[out])\n",
    "    return model"
   ]
  },
  {
   "cell_type": "code",
   "execution_count": 7,
   "metadata": {},
   "outputs": [],
   "source": [
    "## 超參數設定\n",
    "LEARNING_RATE = 1e-3\n",
    "EPOCHS = 50\n",
    "BATCH_SIZE = 256\n",
    "MOMENTUM = 0.95\n",
    "Dropout_EXP = 0.25"
   ]
  },
  {
   "cell_type": "code",
   "execution_count": 9,
   "metadata": {},
   "outputs": [
    {
     "name": "stdout",
     "output_type": "stream",
     "text": [
      "_________________________________________________________________\n",
      "Layer (type)                 Output Shape              Param #   \n",
      "=================================================================\n",
      "input_2 (InputLayer)         (None, 3072)              0         \n",
      "_________________________________________________________________\n",
      "hidden_layer1 (Dense)        (None, 512)               1573376   \n",
      "_________________________________________________________________\n",
      "dropout_4 (Dropout)          (None, 512)               0         \n",
      "_________________________________________________________________\n",
      "hidden_layer2 (Dense)        (None, 256)               131328    \n",
      "_________________________________________________________________\n",
      "dropout_5 (Dropout)          (None, 256)               0         \n",
      "_________________________________________________________________\n",
      "hidden_layer3 (Dense)        (None, 128)               32896     \n",
      "_________________________________________________________________\n",
      "dropout_6 (Dropout)          (None, 128)               0         \n",
      "_________________________________________________________________\n",
      "output (Dense)               (None, 10)                1290      \n",
      "=================================================================\n",
      "Total params: 1,738,890\n",
      "Trainable params: 1,738,890\n",
      "Non-trainable params: 0\n",
      "_________________________________________________________________\n",
      "WARNING:tensorflow:From C:\\ProgramData\\Anaconda3\\lib\\site-packages\\tensorflow\\python\\ops\\math_ops.py:3066: to_int32 (from tensorflow.python.ops.math_ops) is deprecated and will be removed in a future version.\n",
      "Instructions for updating:\n",
      "Use tf.cast instead.\n",
      "Train on 50000 samples, validate on 10000 samples\n",
      "Epoch 1/50\n",
      "50000/50000 [==============================] - 15s 298us/step - loss: 2.0635 - acc: 0.2400 - val_loss: 1.8444 - val_acc: 0.3394\n",
      "Epoch 2/50\n",
      "50000/50000 [==============================] - 12s 247us/step - loss: 1.8880 - acc: 0.3099 - val_loss: 1.7546 - val_acc: 0.3704\n",
      "Epoch 3/50\n",
      "50000/50000 [==============================] - 13s 254us/step - loss: 1.8236 - acc: 0.3391 - val_loss: 1.7217 - val_acc: 0.3886\n",
      "Epoch 4/50\n",
      "50000/50000 [==============================] - 13s 252us/step - loss: 1.7819 - acc: 0.3557 - val_loss: 1.6875 - val_acc: 0.3986\n",
      "Epoch 5/50\n",
      "50000/50000 [==============================] - 13s 258us/step - loss: 1.7570 - acc: 0.3636 - val_loss: 1.6317 - val_acc: 0.4273\n",
      "Epoch 6/50\n",
      "50000/50000 [==============================] - 13s 254us/step - loss: 1.7283 - acc: 0.3778 - val_loss: 1.6217 - val_acc: 0.4310\n",
      "Epoch 7/50\n",
      "50000/50000 [==============================] - 13s 262us/step - loss: 1.7079 - acc: 0.3832 - val_loss: 1.6082 - val_acc: 0.4291 - ac\n",
      "Epoch 8/50\n",
      "50000/50000 [==============================] - 13s 255us/step - loss: 1.6988 - acc: 0.3850 - val_loss: 1.6042 - val_acc: 0.4335\n",
      "Epoch 9/50\n",
      "50000/50000 [==============================] - 13s 255us/step - loss: 1.6733 - acc: 0.3975 - val_loss: 1.5842 - val_acc: 0.4420\n",
      "Epoch 10/50\n",
      "50000/50000 [==============================] - 13s 252us/step - loss: 1.6697 - acc: 0.3955 - val_loss: 1.5674 - val_acc: 0.4496\n",
      "Epoch 11/50\n",
      "50000/50000 [==============================] - 13s 253us/step - loss: 1.6596 - acc: 0.4018 - val_loss: 1.5941 - val_acc: 0.4354\n",
      "Epoch 12/50\n",
      "50000/50000 [==============================] - 13s 253us/step - loss: 1.6473 - acc: 0.4043 - val_loss: 1.5657 - val_acc: 0.4520\n",
      "Epoch 13/50\n",
      "50000/50000 [==============================] - 13s 250us/step - loss: 1.6425 - acc: 0.4105 - val_loss: 1.5499 - val_acc: 0.4508\n",
      "Epoch 14/50\n",
      "50000/50000 [==============================] - 13s 256us/step - loss: 1.6326 - acc: 0.4107 - val_loss: 1.5740 - val_acc: 0.4400\n",
      "Epoch 15/50\n",
      "50000/50000 [==============================] - 13s 251us/step - loss: 1.6237 - acc: 0.4157 - val_loss: 1.5440 - val_acc: 0.4482\n",
      "Epoch 16/50\n",
      "50000/50000 [==============================] - 13s 253us/step - loss: 1.6187 - acc: 0.4182 - val_loss: 1.5400 - val_acc: 0.4486\n",
      "Epoch 17/50\n",
      "50000/50000 [==============================] - 13s 256us/step - loss: 1.6136 - acc: 0.4165 - val_loss: 1.5379 - val_acc: 0.4528\n",
      "Epoch 18/50\n",
      "50000/50000 [==============================] - 13s 252us/step - loss: 1.6106 - acc: 0.4196 - val_loss: 1.5215 - val_acc: 0.4677\n",
      "Epoch 19/50\n",
      "50000/50000 [==============================] - 13s 256us/step - loss: 1.6030 - acc: 0.4218 - val_loss: 1.5110 - val_acc: 0.4655\n",
      "Epoch 20/50\n",
      "50000/50000 [==============================] - 13s 255us/step - loss: 1.5894 - acc: 0.4268 - val_loss: 1.5297 - val_acc: 0.4583\n",
      "Epoch 21/50\n",
      "50000/50000 [==============================] - 13s 263us/step - loss: 1.5891 - acc: 0.4309 - val_loss: 1.4981 - val_acc: 0.4728\n",
      "Epoch 22/50\n",
      "50000/50000 [==============================] - 13s 258us/step - loss: 1.5769 - acc: 0.4346 - val_loss: 1.5171 - val_acc: 0.4590\n",
      "Epoch 23/50\n",
      "50000/50000 [==============================] - 13s 255us/step - loss: 1.5719 - acc: 0.4331 - val_loss: 1.5200 - val_acc: 0.4650\n",
      "Epoch 24/50\n",
      "50000/50000 [==============================] - 13s 251us/step - loss: 1.5687 - acc: 0.4361 - val_loss: 1.5304 - val_acc: 0.4608\n",
      "Epoch 25/50\n",
      "50000/50000 [==============================] - 13s 253us/step - loss: 1.5657 - acc: 0.4366 - val_loss: 1.4817 - val_acc: 0.4794\n",
      "Epoch 26/50\n",
      "50000/50000 [==============================] - 13s 258us/step - loss: 1.5661 - acc: 0.4387 - val_loss: 1.5113 - val_acc: 0.4689\n",
      "Epoch 27/50\n",
      "50000/50000 [==============================] - 14s 277us/step - loss: 1.5578 - acc: 0.4392 - val_loss: 1.4896 - val_acc: 0.4688\n",
      "Epoch 28/50\n",
      "50000/50000 [==============================] - 14s 278us/step - loss: 1.5566 - acc: 0.4393 - val_loss: 1.4947 - val_acc: 0.4740\n",
      "Epoch 29/50\n",
      "50000/50000 [==============================] - 14s 275us/step - loss: 1.5468 - acc: 0.4435 - val_loss: 1.4892 - val_acc: 0.4711\n",
      "Epoch 30/50\n",
      "50000/50000 [==============================] - 14s 272us/step - loss: 1.5481 - acc: 0.4419 - val_loss: 1.4740 - val_acc: 0.4787\n",
      "Epoch 31/50\n",
      "50000/50000 [==============================] - 14s 280us/step - loss: 1.5431 - acc: 0.4414 - val_loss: 1.4729 - val_acc: 0.4803\n",
      "Epoch 32/50\n",
      "50000/50000 [==============================] - 14s 279us/step - loss: 1.5393 - acc: 0.4485 - val_loss: 1.4686 - val_acc: 0.4821\n",
      "Epoch 33/50\n",
      "50000/50000 [==============================] - 14s 278us/step - loss: 1.5343 - acc: 0.4500 - val_loss: 1.4757 - val_acc: 0.4780\n",
      "Epoch 34/50\n",
      "50000/50000 [==============================] - 14s 275us/step - loss: 1.5325 - acc: 0.4493 - val_loss: 1.4879 - val_acc: 0.4712\n",
      "Epoch 35/50\n",
      "50000/50000 [==============================] - 14s 283us/step - loss: 1.5320 - acc: 0.4504 - val_loss: 1.4985 - val_acc: 0.4639\n",
      "Epoch 36/50\n",
      "50000/50000 [==============================] - 14s 279us/step - loss: 1.5232 - acc: 0.4533 - val_loss: 1.4510 - val_acc: 0.4830\n",
      "Epoch 37/50\n",
      "50000/50000 [==============================] - 14s 284us/step - loss: 1.5189 - acc: 0.4558 - val_loss: 1.4687 - val_acc: 0.4756\n",
      "Epoch 38/50\n",
      "50000/50000 [==============================] - 14s 277us/step - loss: 1.5156 - acc: 0.4549 - val_loss: 1.4764 - val_acc: 0.4750\n",
      "Epoch 39/50\n",
      "50000/50000 [==============================] - 14s 282us/step - loss: 1.5231 - acc: 0.4524 - val_loss: 1.4826 - val_acc: 0.4701\n",
      "Epoch 40/50\n",
      "50000/50000 [==============================] - 14s 283us/step - loss: 1.5202 - acc: 0.4515 - val_loss: 1.4497 - val_acc: 0.4901\n",
      "Epoch 41/50\n",
      "50000/50000 [==============================] - 14s 281us/step - loss: 1.5082 - acc: 0.4566 - val_loss: 1.4461 - val_acc: 0.4791\n",
      "Epoch 42/50\n",
      "50000/50000 [==============================] - 14s 281us/step - loss: 1.5030 - acc: 0.4589 - val_loss: 1.4878 - val_acc: 0.4712\n",
      "Epoch 43/50\n",
      "50000/50000 [==============================] - 14s 280us/step - loss: 1.5201 - acc: 0.4515 - val_loss: 1.4790 - val_acc: 0.4794\n",
      "Epoch 44/50\n",
      "50000/50000 [==============================] - 14s 284us/step - loss: 1.5090 - acc: 0.4583 - val_loss: 1.4750 - val_acc: 0.4833\n",
      "Epoch 45/50\n",
      "50000/50000 [==============================] - 14s 289us/step - loss: 1.4986 - acc: 0.4625 - val_loss: 1.4496 - val_acc: 0.4880\n",
      "Epoch 46/50\n",
      "50000/50000 [==============================] - 14s 288us/step - loss: 1.5003 - acc: 0.4600 - val_loss: 1.4496 - val_acc: 0.4897\n",
      "Epoch 47/50\n"
     ]
    },
    {
     "name": "stdout",
     "output_type": "stream",
     "text": [
      "50000/50000 [==============================] - 12s 239us/step - loss: 1.4987 - acc: 0.4638 - val_loss: 1.4516 - val_acc: 0.4897\n",
      "Epoch 48/50\n",
      "50000/50000 [==============================] - 12s 237us/step - loss: 1.4936 - acc: 0.4646 - val_loss: 1.4635 - val_acc: 0.4781\n",
      "Epoch 49/50\n",
      "50000/50000 [==============================] - 12s 239us/step - loss: 1.5002 - acc: 0.4634 - val_loss: 1.4473 - val_acc: 0.4931\n",
      "Epoch 50/50\n",
      "50000/50000 [==============================] - 12s 240us/step - loss: 1.4880 - acc: 0.4632 - val_loss: 1.4788 - val_acc: 0.4731\n"
     ]
    }
   ],
   "source": [
    "model = build_mlp(input_shape=x_train.shape[1:], drp_ratio=Dropout_EXP)\n",
    "model.summary()\n",
    "optimizer = keras.optimizers.Adam(lr=LEARNING_RATE, beta_1=0.9, beta_2=0.999, epsilon=None, decay=0.0, amsgrad=False) #nesterov：布爾值\n",
    "model.compile(loss=\"categorical_crossentropy\", metrics=[\"accuracy\"], optimizer=optimizer) ##compile() 函数将一个字符串编译为字节代码。\n",
    "##metrics指標  accuracy 準確率\n",
    "model.fit(x_train, y_train, \n",
    "          epochs=EPOCHS, \n",
    "          batch_size=BATCH_SIZE, \n",
    "          validation_data=(x_test, y_test), \n",
    "          shuffle=True)\n",
    "\n",
    "# Collect results\n",
    "train_loss = model.history.history[\"loss\"]\n",
    "valid_loss = model.history.history[\"val_loss\"]\n",
    "train_acc = model.history.history[\"acc\"]\n",
    "valid_acc = model.history.history[\"val_acc\"]"
   ]
  },
  {
   "cell_type": "code",
   "execution_count": 10,
   "metadata": {},
   "outputs": [
    {
     "data": {
      "image/png": "[encoded data removed]",
      "text/plain": [
       "<Figure size 432x288 with 1 Axes>"
      ]
     },
     "metadata": {
      "needs_background": "light"
     },
     "output_type": "display_data"
    },
    {
     "data": {
      "image/png": "[encoded data removed]",
      "text/plain": [
       "<Figure size 432x288 with 1 Axes>"
      ]
     },
     "metadata": {
      "needs_background": "light"
     },
     "output_type": "display_data"
    }
   ],
   "source": [
    "import matplotlib.pyplot as plt\n",
    "%matplotlib inline\n",
    "\n",
    "plt.plot(range(len(train_loss)), train_loss, label=\"train loss\")\n",
    "plt.plot(range(len(valid_loss)), valid_loss, label=\"valid loss\")\n",
    "plt.legend()\n",
    "plt.title(\"Loss\")\n",
    "plt.show()\n",
    "\n",
    "plt.plot(range(len(train_acc)), train_acc, label=\"train accuracy\")\n",
    "plt.plot(range(len(valid_acc)), valid_acc, label=\"valid accuracy\")\n",
    "plt.legend()\n",
    "plt.title(\"Accuracy\")\n",
    "plt.show()"
   ]
  },
  {
   "cell_type": "code",
   "execution_count": null,
   "metadata": {},
   "outputs": [],
   "source": []
  }
 ],
 "metadata": {
  "kernelspec": {
   "display_name": "Python 3",
   "language": "python",
   "name": "python3"
  },
  "language_info": {
   "codemirror_mode": {
    "name": "ipython",
    "version": 3
   },
   "file_extension": ".py",
   "mimetype": "text/x-python",
   "name": "python",
   "nbconvert_exporter": "python",
   "pygments_lexer": "ipython3",
   "version": "3.7.3"
  }
 },
 "nbformat": 4,
 "nbformat_minor": 2
}

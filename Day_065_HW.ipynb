{
 "cells": [
  {
   "cell_type": "code",
   "execution_count": null,
   "metadata": {},
   "outputs": [],
   "source": [
    "選擇分類資料集(右下)-螺旋雙臂 - 交錯六群，限定特徵只能使用前兩個，隱藏層 2 層滿 (共 8 * 2 =16 個神經元)，\n",
    "遞迴次數只允許跑到500次，但可以自由調整 批次大小、學習速率、啟動函數、正規化選項與參數\n",
    "在上述限制下，挑戰看看測試誤差 (Test Loss) 最低能到多少? 請回答你的上述幾項參數與 Test Loss 數\n",
    "\n",
    "答:\n",
    "螺旋雙臂\n",
    "Data:  60%\n",
    "Noise:  20\n",
    "Batch size:  10\n",
    "Learning rate :0.03\n",
    "Activation :Sigmoid\n",
    "Regularization:NOne\n",
    "Regularization rate :3\n",
    "Test loss 0.480\n",
    "\n",
    "交錯六群\n",
    "Data:  60%\n",
    "Noise:  20\n",
    "Batch size:  10\n",
    "Learning rate :0.03\n",
    "Activation :Sigmoid\n",
    "Regularization:NOne\n",
    "Regularization rate :3\n",
    "Test loss 0.031\n",
    "\n",
    "\n",
    "螺旋雙臂\n",
    "Data:  60%\n",
    "Noise:  20\n",
    "Batch size:  30\n",
    "Learning rate :0.03\n",
    "Activation :Sigmoid\n",
    "Regularization:NOne\n",
    "Regularization rate :3\n",
    "Test loss 0.482\n",
    "\n",
    "\n",
    "\n",
    "\n",
    "\n",
    "\n",
    "\n",
    "\n",
    "交錯六群\n",
    "Data:  60%\n",
    "Noise:  20\n",
    "Batch size:  30\n",
    "Learning rate :0.03\n",
    "Activation :Sigmoid\n",
    "Regularization:NOne\n",
    "Regularization rate :3\n",
    "Test loss 0.039"
   ]
  }
 ],
 "metadata": {
  "kernelspec": {
   "display_name": "Python 3",
   "language": "python",
   "name": "python3"
  },
  "language_info": {
   "codemirror_mode": {
    "name": "ipython",
    "version": 3
   },
   "file_extension": ".py",
   "mimetype": "text/x-python",
   "name": "python",
   "nbconvert_exporter": "python",
   "pygments_lexer": "ipython3",
   "version": "3.7.3"
  }
 },
 "nbformat": 4,
 "nbformat_minor": 2
}

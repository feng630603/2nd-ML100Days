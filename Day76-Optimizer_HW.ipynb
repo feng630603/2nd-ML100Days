{
 "cells": [
  {
   "cell_type": "code",
   "execution_count": null,
   "metadata": {},
   "outputs": [],
   "source": [
    "#作業重點:\n",
    "#(1)以, Adam, 為例, 調整 batch_size, epoch , 觀察accurancy, loss 的變化\n",
    "\n",
    "#(2)以同一模型, 分別驗證 SGD, Adam, Rmsprop 的 accurancy\n",
    "\n",
    "#作業目標:\n",
    "#取得各種優化器的運算結果"
   ]
  },
  {
   "cell_type": "code",
   "execution_count": 1,
   "metadata": {},
   "outputs": [
    {
     "name": "stderr",
     "output_type": "stream",
     "text": [
      "Using TensorFlow backend.\n"
     ]
    }
   ],
   "source": [
    "from __future__ import print_function\n",
    "import keras\n",
    "from keras.datasets import cifar10\n",
    "from keras.preprocessing.image import ImageDataGenerator\n",
    "from keras.models import Sequential\n",
    "from keras.layers import Dense, Dropout, Activation, Flatten\n",
    "from keras.layers import Conv2D, MaxPooling2D\n",
    "import os\n",
    "from keras import optimizers"
   ]
  },
  {
   "cell_type": "code",
   "execution_count": 2,
   "metadata": {},
   "outputs": [],
   "source": [
    "#Blas GEMM launch failed , 避免動態分配GPU / CPU, 出現問題\n",
    "import tensorflow as tf\n",
    "gpu_options = tf.GPUOptions(per_process_gpu_memory_fraction=0.333)\n",
    "sess = tf.Session(config=tf.ConfigProto(gpu_options=gpu_options))"
   ]
  },
  {
   "cell_type": "code",
   "execution_count": 4,
   "metadata": {},
   "outputs": [],
   "source": [
    "'''\n",
    "   宣告並設定\n",
    "   batch_size：對總的樣本數進行分組，每組包含的樣本數量\n",
    "   epochs ：訓練次數\n",
    "   \n",
    "''' \n",
    "batch_size = 32\n",
    "#batch_size = 32\n",
    "num_classes = 10 # 影像類別數\n",
    "epochs = 20 #1个epoch表示过了1遍训练集中的所有样本。\n",
    "data_augmentation = True #数据增强变换\n",
    "num_predictions = 20 #預測\n",
    "save_dir = os.path.join(os.getcwd(), 'saved_models') #os.path.join(os.getcwd()就是获取当前目录，并组合成新目\n",
    "model_name = 'keras_cifar10_trained_model.h5'## 模型名称，用.h5保存"
   ]
  },
  {
   "cell_type": "code",
   "execution_count": 5,
   "metadata": {},
   "outputs": [
    {
     "name": "stdout",
     "output_type": "stream",
     "text": [
      "x_train shape: (50000, 32, 32, 3)\n",
      "50000 train samples\n",
      "10000 test samples\n"
     ]
    }
   ],
   "source": [
    "# The data, split between train and test sets:\n",
    "(x_train, y_train), (x_test, y_test) = cifar10.load_data()\n",
    "print('x_train shape:', x_train.shape)\n",
    "print(x_train.shape[0], 'train samples')\n",
    "print(x_test.shape[0], 'test samples')\n",
    "\n",
    "# Convert class vectors to binary class matrices. # Convert class vectors to binary class matrices. #＃將類向量轉換為二進制類矩陣。\n",
    "y_train = keras.utils.to_categorical(y_train, num_classes)#keras.utils.to_categorical函數：是把類別標籤轉換爲onehot編碼（categorical就是類別標籤的意思，表示現實世界中你分類的各類別）， 而onehot編碼是一種方便計算機處理的二元編碼。**\n",
    "y_test = keras.utils.to_categorical(y_test, num_classes)"
   ]
  },
  {
   "cell_type": "code",
   "execution_count": 6,
   "metadata": {},
   "outputs": [
    {
     "name": "stdout",
     "output_type": "stream",
     "text": [
      "WARNING:tensorflow:From C:\\ProgramData\\Anaconda3\\lib\\site-packages\\tensorflow\\python\\framework\\op_def_library.py:263: colocate_with (from tensorflow.python.framework.ops) is deprecated and will be removed in a future version.\n",
      "Instructions for updating:\n",
      "Colocations handled automatically by placer.\n",
      "WARNING:tensorflow:From C:\\ProgramData\\Anaconda3\\lib\\site-packages\\keras\\backend\\tensorflow_backend.py:3445: calling dropout (from tensorflow.python.ops.nn_ops) with keep_prob is deprecated and will be removed in a future version.\n",
      "Instructions for updating:\n",
      "Please use `rate` instead of `keep_prob`. Rate should be set to `rate = 1 - keep_prob`.\n"
     ]
    }
   ],
   "source": [
    "#    第一步：選擇模型, 順序模型是多個網絡層的線性堆疊\n",
    " \n",
    "model = Sequential()#sequential model就是那种最简单的结构的模型。按顺序一层一层训练，一层一层往前的那种。没有什么环的结构。比如像前馈网络那样。\n",
    "\n",
    "#   第二步：構建網絡層\n",
    "model.add(Conv2D(32, (3, 3), padding='same', ##邊界模式=same (填補=0, 步幅=1)\n",
    "                 input_shape=x_train.shape[1:])) # _shape 形狀\n",
    "model.add(Activation('relu')) ## 将激活函数sigmoid改为ReLU\n",
    "model.add(Conv2D(32, (3, 3)))#二維 #pool_size: 整数，或者 2 个整数表示的元组， 沿（垂直，水平）方向缩小比例的因数。 （2，2）会把输入张量的两个维度都缩小一半。 如果只使用一个整数，那么两个维度都会使用同样的窗口长度。\n",
    "model.add(Activation('relu'))\n",
    "model.add(MaxPooling2D(pool_size=(2, 2)))\n",
    "model.add(Dropout(0.25)) #Dropout的意思是：每次训练时随机忽略一部分神经元，这些神经元dropped-out了。换句话讲，这些神经元在正向传播时对下游的启动影响被忽略，反向传播时也不会更新权重。\n",
    "\n",
    "model.add(Conv2D(64, (3, 3), padding='same'))\n",
    "model.add(Activation('relu'))\n",
    "model.add(Conv2D(64, (3, 3)))\n",
    "model.add(Activation('relu'))\n",
    "model.add(MaxPooling2D(pool_size=(2, 2)))\n",
    "model.add(Dropout(0.25))\n",
    "\n",
    "model.add(Flatten()) #flatten是numpy.ndarray.flatten的一個函數，即返回一個一維數組。\n",
    "model.add(Dense(512)) ##Dense就是常用的全连接层，所实现的运算是output = activation(dot(input, kernel)+bias)。其中activation是逐元素计算的激活函数，kernel`是本层的权值矩阵，bias为偏置向量，只有当use_bias=True才会添加。\n",
    "model.add(Activation('relu'))\n",
    "model.add(Dropout(0.5))\n",
    "\n",
    "model.add(Dense( 10)) # 輸出結果是10個類別，所以維度是10   \n",
    "model.add(Activation('softmax')) # 最後一層用softmax作為激活函數"
   ]
  },
  {
   "cell_type": "code",
   "execution_count": 7,
   "metadata": {},
   "outputs": [
    {
     "name": "stdout",
     "output_type": "stream",
     "text": [
      "Total Parameters：1250858\n"
     ]
    }
   ],
   "source": [
    "# 模型建立完成後，統計參數總量\n",
    "print(\"Total Parameters：%d\" % model.count_params())"
   ]
  },
  {
   "cell_type": "code",
   "execution_count": 8,
   "metadata": {},
   "outputs": [
    {
     "name": "stdout",
     "output_type": "stream",
     "text": [
      "_________________________________________________________________\n",
      "Layer (type)                 Output Shape              Param #   \n",
      "=================================================================\n",
      "conv2d_1 (Conv2D)            (None, 32, 32, 32)        896       \n",
      "_________________________________________________________________\n",
      "activation_1 (Activation)    (None, 32, 32, 32)        0         \n",
      "_________________________________________________________________\n",
      "conv2d_2 (Conv2D)            (None, 30, 30, 32)        9248      \n",
      "_________________________________________________________________\n",
      "activation_2 (Activation)    (None, 30, 30, 32)        0         \n",
      "_________________________________________________________________\n",
      "max_pooling2d_1 (MaxPooling2 (None, 15, 15, 32)        0         \n",
      "_________________________________________________________________\n",
      "dropout_1 (Dropout)          (None, 15, 15, 32)        0         \n",
      "_________________________________________________________________\n",
      "conv2d_3 (Conv2D)            (None, 15, 15, 64)        18496     \n",
      "_________________________________________________________________\n",
      "activation_3 (Activation)    (None, 15, 15, 64)        0         \n",
      "_________________________________________________________________\n",
      "conv2d_4 (Conv2D)            (None, 13, 13, 64)        36928     \n",
      "_________________________________________________________________\n",
      "activation_4 (Activation)    (None, 13, 13, 64)        0         \n",
      "_________________________________________________________________\n",
      "max_pooling2d_2 (MaxPooling2 (None, 6, 6, 64)          0         \n",
      "_________________________________________________________________\n",
      "dropout_2 (Dropout)          (None, 6, 6, 64)          0         \n",
      "_________________________________________________________________\n",
      "flatten_1 (Flatten)          (None, 2304)              0         \n",
      "_________________________________________________________________\n",
      "dense_1 (Dense)              (None, 512)               1180160   \n",
      "_________________________________________________________________\n",
      "activation_5 (Activation)    (None, 512)               0         \n",
      "_________________________________________________________________\n",
      "dropout_3 (Dropout)          (None, 512)               0         \n",
      "_________________________________________________________________\n",
      "dense_2 (Dense)              (None, 10)                5130      \n",
      "_________________________________________________________________\n",
      "activation_6 (Activation)    (None, 10)                0         \n",
      "=================================================================\n",
      "Total params: 1,250,858\n",
      "Trainable params: 1,250,858\n",
      "Non-trainable params: 0\n",
      "_________________________________________________________________\n"
     ]
    }
   ],
   "source": [
    "# 輸出模型摘要資訊\n",
    "model.summary()"
   ]
  },
  {
   "cell_type": "code",
   "execution_count": 15,
   "metadata": {},
   "outputs": [],
   "source": [
    "#第三步編譯\n",
    "'''\n",
    " SGD(隨機梯度下降) - Arguments\n",
    "lr: float >= 0. Learning rate.\n",
    "momentum: float >= 0. Parameter that accelerates SGD in the relevant direction and dampens oscillations.\n",
    "decay: float >= 0. Learning rate decay over each update.\n",
    "nesterov: boolean. Whether to apply Nesterov momentum.\n",
    "\n",
    "RMSprop- Arguments\n",
    "lr: float >= 0. Learning rate.\n",
    "rho: float >= 0.\n",
    "epsilon: float >= 0. Fuzz factor. If None, defaults to K.epsilon().\n",
    "decay: float >= 0. Learning rate decay over each update.\n",
    "\n",
    "Example:\n",
    "opt = optimizers.SGD(lr=0.01, decay=1e-6, momentum=0.9, nesterov=True)\n",
    "SGD（隨機梯度下降） - 參數\n",
    "lr：float> = 0.學習率。\n",
    "動量：float> = 0.參數可以加速相關方向的SGD並抑制振盪。\n",
    "衰減：浮動> = 0.每次更新時學習率下降。\n",
    "nesterov：布爾值。 是否適用Nesterov勢頭。\n",
    "\n",
    "RMSprop-參數\n",
    "lr：float> = 0.學習率。\n",
    "rho：float> = 0。\n",
    "epsilon：float> = 0.模糊因子。 如果為None，則默認為K.epsilon（）。\n",
    "衰減：浮動> = 0.每次更新時學習率下降。\n",
    "\n",
    "例：\n",
    "opt = optimizers.SGD（lr = 0.01，衰減= 1e-6，動量= 0.9，nesterov = True）\n",
    "\n",
    "'''\n",
    "#model.compile(optimizer = 'adam', loss = 'categorical_crossentropy', metrics = ['accuracy'])\n",
    "model.compile(optimizer = 'SGD', loss = 'categorical_crossentropy', metrics = ['accuracy'])"
   ]
  },
  {
   "cell_type": "code",
   "execution_count": 16,
   "metadata": {},
   "outputs": [],
   "source": [
    "# 資料正規化\n",
    "x_train = x_train.astype('float32')\n",
    "x_test = x_test.astype('float32')\n",
    "x_train /= 255\n",
    "x_test /= 255"
   ]
  },
  {
   "cell_type": "code",
   "execution_count": 22,
   "metadata": {},
   "outputs": [
    {
     "name": "stdout",
     "output_type": "stream",
     "text": [
      "Using real-time data augmentation.\n",
      "\n",
      "Train on 50000 samples, validate on 10000 samples\n",
      "Epoch 1/20\n",
      "50000/50000 [==============================] - 385s 8ms/step - loss: 2.0811 - acc: 0.2281 - val_loss: 1.8735 - val_acc: 0.3356\n",
      "Epoch 2/20\n",
      "50000/50000 [==============================] - 375s 7ms/step - loss: 1.7895 - acc: 0.3472 - val_loss: 1.6107 - val_acc: 0.4201\n",
      "Epoch 3/20\n",
      "50000/50000 [==============================] - 373s 7ms/step - loss: 1.6206 - acc: 0.4088 - val_loss: 1.4874 - val_acc: 0.4599\n",
      "Epoch 4/20\n",
      "50000/50000 [==============================] - 375s 7ms/step - loss: 1.4952 - acc: 0.4586 - val_loss: 1.3887 - val_acc: 0.4960\n",
      "Epoch 5/20\n",
      "50000/50000 [==============================] - 377s 8ms/step - loss: 1.3963 - acc: 0.4983 - val_loss: 1.2597 - val_acc: 0.5543\n",
      "Epoch 6/20\n",
      "50000/50000 [==============================] - 378s 8ms/step - loss: 1.3220 - acc: 0.5294 - val_loss: 1.1941 - val_acc: 0.5762\n",
      "Epoch 7/20\n",
      "50000/50000 [==============================] - 398s 8ms/step - loss: 1.2530 - acc: 0.5527 - val_loss: 1.1822 - val_acc: 0.5881\n",
      "Epoch 8/20\n",
      "50000/50000 [==============================] - 380s 8ms/step - loss: 1.2001 - acc: 0.5763 - val_loss: 1.0935 - val_acc: 0.6133\n",
      "Epoch 9/20\n",
      "50000/50000 [==============================] - 407s 8ms/step - loss: 1.1477 - acc: 0.5950 - val_loss: 1.0142 - val_acc: 0.6463\n",
      "Epoch 10/20\n",
      "50000/50000 [==============================] - 412s 8ms/step - loss: 1.0976 - acc: 0.6136 - val_loss: 1.0056 - val_acc: 0.6447\n",
      "Epoch 11/20\n",
      "50000/50000 [==============================] - 404s 8ms/step - loss: 1.0531 - acc: 0.6258 - val_loss: 1.0103 - val_acc: 0.6468\n",
      "Epoch 12/20\n",
      "50000/50000 [==============================] - 394s 8ms/step - loss: 1.0213 - acc: 0.6396 - val_loss: 0.9678 - val_acc: 0.6592\n",
      "Epoch 13/20\n",
      "50000/50000 [==============================] - 388s 8ms/step - loss: 0.9779 - acc: 0.6568 - val_loss: 0.9114 - val_acc: 0.6848\n",
      "Epoch 14/20\n",
      "50000/50000 [==============================] - 384s 8ms/step - loss: 0.9481 - acc: 0.6661 - val_loss: 0.8732 - val_acc: 0.6974\n",
      "Epoch 15/20\n",
      "50000/50000 [==============================] - 389s 8ms/step - loss: 0.9233 - acc: 0.6741 - val_loss: 0.8482 - val_acc: 0.7049\n",
      "Epoch 16/20\n",
      "50000/50000 [==============================] - 395s 8ms/step - loss: 0.8978 - acc: 0.6853 - val_loss: 0.8215 - val_acc: 0.7142\n",
      "Epoch 17/20\n",
      "50000/50000 [==============================] - 437s 9ms/step - loss: 0.8672 - acc: 0.6938 - val_loss: 0.8506 - val_acc: 0.7110\n",
      "Epoch 18/20\n",
      "50000/50000 [==============================] - 442s 9ms/step - loss: 0.8440 - acc: 0.7016 - val_loss: 0.8006 - val_acc: 0.7255\n",
      "Epoch 19/20\n",
      "50000/50000 [==============================] - 395s 8ms/step - loss: 0.8203 - acc: 0.7108 - val_loss: 0.8127 - val_acc: 0.7159\n",
      "Epoch 20/20\n",
      "50000/50000 [==============================] - 395s 8ms/step - loss: 0.7999 - acc: 0.7178 - val_loss: 0.7532 - val_acc: 0.7424\n"
     ]
    },
    {
     "data": {
      "text/plain": [
       "'\\n   第四步：訓練\\n   .fit的一些參數\\n   batch_size：對總的樣本數進行分組，每組包含的樣本數量\\n   epochs ：訓練次數\\n   shuffle：是否把數據隨機打亂之後再進行訓練\\n   validation_split：拿出百分之多少用來做交叉驗證\\n   verbose：屏顯模式 - 0：不輸出, 1：輸出進度, 2：輸出每次的訓練結果\\n'"
      ]
     },
     "execution_count": 22,
     "metadata": {},
     "output_type": "execute_result"
    }
   ],
   "source": [
    "# 是否要做資料處理\n",
    "if not data_augmentation:\n",
    "    print('Not using data augmentation.')\n",
    "    history=model.fit(x_train, y_train,\n",
    "              batch_size=batch_size,\n",
    "              epochs=epochs,\n",
    "              validation_data=(x_test, y_test),\n",
    "              shuffle=True)\n",
    "    #形式为（X，y）或（X，y，sample_weights）的tuple，是指定的验证集。此参数将覆盖validation_spilt。\n",
    "    #Model.fit(训练集x ,  训练集y)     #模型训练\n",
    "    #布尔值或字符串，一般为布尔值，表示是否在训练过程中随机打乱输入样本的顺序。若为字符串“batch”，则是用来处理HDF5数据的特殊情况，它将在batch内部将数据打乱。\n",
    "else:\n",
    "    print('Using real-time data augmentation.')\n",
    "    print('')\n",
    "        \n",
    "    # This will do preprocessing and realtime data augmentation: 這將進行預處理和實時數據擴充：\n",
    "    datagen = ImageDataGenerator(\n",
    "        featurewise_center=False,  # set input mean to 0 over the dataset ＃在數據集上設置輸入均值為0\n",
    "        samplewise_center=False,  # set each sample mean to 0 ＃將每個樣本均值設置為0\n",
    "        featurewise_std_normalization=False,  # divide inputs by std of the dataset  按數據集的標準劃分輸入\n",
    "        samplewise_std_normalization=False,  # divide each input by its std＃按數據集的std劃分輸入\n",
    "        zca_whitening=False,  # apply ZCA whitening # apply ZCA whitening #appin ZCA美白 資料白化（Whitening）處理：提供ZCA Whitening處理。（Whitening是一種將資料去冗餘的技術）\n",
    "        zca_epsilon=1e-06,  # epsilon for ZCA whitening # epsilon for ZCA whitening 用於ZCA美白的epsilon 小量\n",
    "        rotation_range=0,  # randomly rotate images in the range (degrees, 0 to 180) 隨機旋轉範圍內的圖像（度，0到180）\n",
    "        # randomly shift images horizontally (fraction of total width) 水平隨機移動圖像（總寬度的一部分）\n",
    "        width_shift_range=0.1,\n",
    "        # randomly shift images vertically (fraction of total height) ＃垂直隨機移動圖像（總高度的分數）\n",
    "        height_shift_range=0.1,\n",
    "        shear_range=0.,  # set range for random shear ＃隨機剪切的設定範圍\n",
    "        zoom_range=0.,  # set range for random zoom ＃設置隨機縮放的範圍\n",
    "        channel_shift_range=0.,  # set range for random channel shifts 設置隨機頻道切換的範圍\n",
    "        # set mode for filling points outside the input boundaries 模式用於填充輸入邊界之外的點\n",
    "        fill_mode='nearest',\n",
    "        cval=0.,  # value used for fill_mode = \"constant\" value用於fill_mode =“常數”\n",
    "        horizontal_flip=True,  # randomly flip images ＃隨機翻轉圖像 horizontal_fli橫\n",
    "        vertical_flip=False,  # randomly flip images  垂直\n",
    "        # set rescaling factor (applied before any other transformation) 設置重新縮放因子（在任何其他轉換之前應用）\n",
    "        rescale=None,\n",
    "        # set function that will be applied on each input 函數將應用於每個輸入\n",
    "        preprocessing_function=None, #預處理功能=無\n",
    "        # image data format, either \"channels_first\" or \"channels_last\"  圖像數據格式，通道首先或通道最後\n",
    "        data_format=None,\n",
    "        # fraction of images reserved for validation (strictly between 0 and 1)  保留用於驗證的圖像分數（嚴格在0和1之間）\n",
    "        validation_split=0.0)  #validation_split：0~1之间的浮点数，用来指定训练集的一定比例数据作为验证集。验证集将不参与训练，并在每个epoch结束后测试的模型的指标，如损失函数、\n",
    "\n",
    "    # Compute quantities required for feature-wise normalization 計算特徵標準化所需的數量\n",
    "    # (std, mean, and principal components if ZCA whitening is applied). 如果應用ZCA白化，則為std，mean和主要組件）。\n",
    "    datagen.fit(x_train)\n",
    "    history=model.fit(x_train, y_train,\n",
    "              batch_size=batch_size,\n",
    "              epochs=epochs,\n",
    "              validation_data=(x_test, y_test),\n",
    "              shuffle=True)   \n",
    "\n",
    "'''\n",
    "   第四步：訓練\n",
    "   .fit的一些參數\n",
    "   batch_size：對總的樣本數進行分組，每組包含的樣本數量\n",
    "   epochs ：訓練次數\n",
    "   shuffle：是否把數據隨機打亂之後再進行訓練\n",
    "   validation_split：拿出百分之多少用來做交叉驗證\n",
    "   verbose：屏顯模式 - 0：不輸出, 1：輸出進度, 2：輸出每次的訓練結果\n",
    "''' "
   ]
  },
  {
   "cell_type": "code",
   "execution_count": 23,
   "metadata": {},
   "outputs": [
    {
     "name": "stdout",
     "output_type": "stream",
     "text": [
      "Saved trained model at C:\\Users\\administrator\\saved_models\\keras_cifar10_trained_model.h5 \n",
      "10000/10000 [==============================] - 23s 2ms/step\n",
      "Test loss: 0.7532139462471008\n",
      "Test accuracy: 0.7424\n"
     ]
    }
   ],
   "source": [
    "# Save model and weights\n",
    "if not os.path.isdir(save_dir):\n",
    "    os.makedirs(save_dir)\n",
    "model_path = os.path.join(save_dir, model_name)\n",
    "model.save(model_path)\n",
    "print('Saved trained model at %s ' % model_path)\n",
    "\n",
    "# Score trained model.\n",
    "scores = model.evaluate(x_test, y_test, verbose=1)\n",
    "print('Test loss:', scores[0])\n",
    "print('Test accuracy:', scores[1])"
   ]
  },
  {
   "cell_type": "code",
   "execution_count": 26,
   "metadata": {},
   "outputs": [
    {
     "name": "stdout",
     "output_type": "stream",
     "text": [
      " test set \n",
      "10000/10000 [==============================] - 21s 2ms/step\n",
      "\n",
      " The test loss is %f  [0.7532139360904694, 0.7424000024795532]\n"
     ]
    }
   ],
   "source": [
    "#    第六步：輸出\n",
    "import numpy \n",
    "\n",
    "print ( \" test set \" )\n",
    "scores = model.evaluate(x_test,y_test,batch_size=200,verbose= 1) #evaluate 評估 batch批次\n",
    "print ( \"\" )\n",
    "#print ( \" The test loss is %f \" % scores) \n",
    "print ( \" The test loss is %f \", scores) # %f 將浮點 數以10進位方式輸出\n",
    "\n",
    "\n",
    "result = model.predict(x_test,batch_size=200,verbose= 0)# predict 預測\n",
    "\n",
    "result_max = numpy.argmax(result, axis = 1 ) #numpy.argmax 返回沿轴axis最大值的索引。 result 結果 numpy中axis=0表示列，axis=1表示行。\n",
    "test_max = numpy.argmax(y_test, axis = 1 )\n",
    "\n",
    "result_bool = numpy.equal(result_max, test_max) #numpy.equal 等於的意思\n",
    "true_num = numpy.sum(result_bool) #距陣相加的意思"
   ]
  },
  {
   "cell_type": "code",
   "execution_count": 27,
   "metadata": {},
   "outputs": [
    {
     "data": {
      "image/png": "[encoded data removed]",
      "text/plain": [
       "<Figure size 432x288 with 1 Axes>"
      ]
     },
     "metadata": {
      "needs_background": "light"
     },
     "output_type": "display_data"
    },
    {
     "data": {
      "image/png": "[encoded data removed]",
      "text/plain": [
       "<Figure size 432x288 with 1 Axes>"
      ]
     },
     "metadata": {
      "needs_background": "light"
     },
     "output_type": "display_data"
    }
   ],
   "source": [
    "import matplotlib.pyplot as plt\n",
    "%matplotlib inline\n",
    "\n",
    "# Plot training & validation accuracy values ＃繪製培訓和驗證準確度值\n",
    "plt.plot(history.history['acc']) #一个 History 对象。其 History.history 属性是连续 epoch 训练损失和评估值，以及验证集损失和评估值的记录（如果适用）\n",
    "plt.plot(history.history['val_acc'])\n",
    "'''\n",
    "acc: 模型在训练集上准确率\n",
    "loss: 模型在训练集上的代价函数值\n",
    "val_acc: 模型在验证集上准确率\n",
    "val_loss: 模型在验证集上的代价函数值\n",
    "'''\n",
    "plt.title('Model accuracy')\n",
    "plt.ylabel('Accuracy')\n",
    "plt.xlabel('Epoch')\n",
    "plt.legend(['Train', 'Valiidation'], loc='upper left')\n",
    "plt.show()\n",
    "\n",
    "# Plot training & validation loss values\n",
    "plt.plot(history.history['loss'])\n",
    "plt.plot(history.history['val_loss'])\n",
    "plt.title('Model loss')\n",
    "plt.ylabel('Loss')\n",
    "plt.xlabel('Epoch')\n",
    "plt.legend(['Train', 'Valiidation'], loc='upper left')\n",
    "plt.show()"
   ]
  },
  {
   "cell_type": "code",
   "execution_count": null,
   "metadata": {},
   "outputs": [],
   "source": []
  }
 ],
 "metadata": {
  "kernelspec": {
   "display_name": "Python 3",
   "language": "python",
   "name": "python3"
  },
  "language_info": {
   "codemirror_mode": {
    "name": "ipython",
    "version": 3
   },
   "file_extension": ".py",
   "mimetype": "text/x-python",
   "name": "python",
   "nbconvert_exporter": "python",
   "pygments_lexer": "ipython3",
   "version": "3.7.3"
  }
 },
 "nbformat": 4,
 "nbformat_minor": 2
}

{
 "cells": [
  {
   "cell_type": "code",
   "execution_count": 1,
   "metadata": {},
   "outputs": [
    {
     "name": "stderr",
     "output_type": "stream",
     "text": [
      "Using TensorFlow backend.\n"
     ]
    }
   ],
   "source": [
    "# 載入必須使用的 Library\n",
    "import keras\n",
    "from keras.datasets import cifar10\n",
    "from keras.models import Sequential, load_model\n",
    "from keras.layers import Dense, Dropout, Activation, Flatten\n",
    "from keras.layers import Conv2D, MaxPooling2D"
   ]
  },
  {
   "cell_type": "code",
   "execution_count": 2,
   "metadata": {},
   "outputs": [
    {
     "name": "stdout",
     "output_type": "stream",
     "text": [
      "x_train shape: (50000, 32, 32, 3)\n",
      "50000 train samples\n",
      "10000 test samples\n"
     ]
    }
   ],
   "source": [
    "batch_size = 32 #訓練樣本數\n",
    "num_classes = 10 # 影像的類別數目\n",
    "epochs = 10  #epochs 指的就是训练过程中数据将被“轮”多少次，就这样。\n",
    "\n",
    "# The data, shuffled and split between train and test sets: ＃在訓練和測試集之間進行混洗和分割的數據：\n",
    "(x_train, y_train), (x_test, y_test) = cifar10.load_data() #tensorflow中构建CNN最主要的函数之一就是conv2d(),它是实现卷积计算的核心步骤函数\n",
    "\n",
    "\n",
    "print('x_train shape:', x_train.shape) \n",
    "print(x_train.shape[0], 'train samples')\n",
    "print(x_test.shape[0], 'test samples')\n",
    "\n",
    "# Convert class vectors to binary class matrices. ＃將類向量轉換為二進制類矩陣。\n",
    "y_train = keras.utils.to_categorical(y_train, num_classes)#將類向量轉換為二進制類矩陣。\n",
    "y_test = keras.utils.to_categorical(y_test, num_classes)#將類向量轉換為二進制類矩陣。"
   ]
  },
  {
   "cell_type": "code",
   "execution_count": 12,
   "metadata": {},
   "outputs": [],
   "source": [
    "# build our CNN model, 多加幾層#構建CNN模型\n",
    "#請修改input shape: (Conv2D(64, (3, 3))的設定, 新增一層 Dense 並觀看 model.summary 的輸出\n",
    "model = Sequential()  #Sequential 序贯模型　　序贯模型是函数式模型的简略版，为最简单的线性、从头到尾的结构顺序，不分叉，是多个网络层的线性堆叠。\n",
    "model.add(Conv2D(128, (6, 6), padding='same',\n",
    "                 input_shape=x_train.shape[1:]))\n",
    "#padding：是卷积核（抹布）在边缘处的处理方法，描述起来比较复杂，一张图比较直观，直接\n",
    "#input：输入图片\n",
    "model.add(Flatten())  #平坦層 (Flatten)\n",
    "model.add(Dense(512)) #Dense層屬於網絡層- (512 是輸出的維度\n",
    "model.add(Activation('relu'))# 激活函數是relu\n",
    "model.add(Dropout(0.5))\n",
    "model.add(Dense(num_classes))#num_classes 查不到是什麼 classes  是類別的意思\n",
    "#dropout是指在深度学习网络的训练过程中，对于神经网络单元，按照一定的概率将其暂时从网络中丢弃。注意是暂时，对于随机梯度下降来说，由于是随机丢弃，故而每一个mini-batch都在训练不同的网络。\n",
    "\n",
    "#dropout是CNN中防止过拟合提高效果\n",
    "model.add(Activation('softmax'))#對上層輸出應⽤用激活函數"
   ]
  },
  {
   "cell_type": "code",
   "execution_count": 13,
   "metadata": {},
   "outputs": [
    {
     "name": "stdout",
     "output_type": "stream",
     "text": [
      "_________________________________________________________________\n",
      "Layer (type)                 Output Shape              Param #   \n",
      "=================================================================\n",
      "conv2d_4 (Conv2D)            (None, 32, 32, 128)       13952     \n",
      "_________________________________________________________________\n",
      "flatten_4 (Flatten)          (None, 131072)            0         \n",
      "_________________________________________________________________\n",
      "dense_7 (Dense)              (None, 512)               67109376  \n",
      "_________________________________________________________________\n",
      "activation_8 (Activation)    (None, 512)               0         \n",
      "_________________________________________________________________\n",
      "dropout_4 (Dropout)          (None, 512)               0         \n",
      "_________________________________________________________________\n",
      "dense_8 (Dense)              (None, 10)                5130      \n",
      "_________________________________________________________________\n",
      "activation_9 (Activation)    (None, 10)                0         \n",
      "=================================================================\n",
      "Total params: 67,128,458\n",
      "Trainable params: 67,128,458\n",
      "Non-trainable params: 0\n",
      "_________________________________________________________________\n",
      "None\n"
     ]
    }
   ],
   "source": [
    "print(model.summary())"
   ]
  },
  {
   "cell_type": "code",
   "execution_count": null,
   "metadata": {},
   "outputs": [],
   "source": []
  }
 ],
 "metadata": {
  "kernelspec": {
   "display_name": "Python 3",
   "language": "python",
   "name": "python3"
  },
  "language_info": {
   "codemirror_mode": {
    "name": "ipython",
    "version": 3
   },
   "file_extension": ".py",
   "mimetype": "text/x-python",
   "name": "python",
   "nbconvert_exporter": "python",
   "pygments_lexer": "ipython3",
   "version": "3.7.3"
  }
 },
 "nbformat": 4,
 "nbformat_minor": 2
}

{
 "cells": [
  {
   "cell_type": "code",
   "execution_count": 1,
   "metadata": {},
   "outputs": [
    {
     "name": "stderr",
     "output_type": "stream",
     "text": [
      "Using TensorFlow backend.\n"
     ]
    }
   ],
   "source": [
    "'''\n",
    "Work\n",
    "試改變 monitor \"Validation Accuracy\" 並比較結果\n",
    "調整 earlystop 的等待次數至 10, 25 並比較結果\n",
    "'''\n",
    "import os\n",
    "import keras\n",
    "import matplotlib.pyplot as plt\n",
    "%matplotlib inline\n",
    "\n",
    "\n",
    "# Disable GPU\n",
    "os.environ[\"CUDA_VISIBLE_DEVICES\"] = \"\""
   ]
  },
  {
   "cell_type": "code",
   "execution_count": 2,
   "metadata": {},
   "outputs": [],
   "source": [
    "train, test = keras.datasets.cifar10.load_data()"
   ]
  },
  {
   "cell_type": "code",
   "execution_count": 3,
   "metadata": {},
   "outputs": [],
   "source": [
    "## 資料前處理\n",
    "def preproc_x(x, flatten=True):\n",
    "    x = x / 255.\n",
    "    if flatten:\n",
    "        x = x.reshape((len(x), -1))\n",
    "    return x\n",
    "\n",
    "def preproc_y(y, num_classes=10):\n",
    "    if y.shape[-1] == 1:\n",
    "        y = keras.utils.to_categorical(y, num_classes)\n",
    "    return y    "
   ]
  },
  {
   "cell_type": "code",
   "execution_count": 4,
   "metadata": {},
   "outputs": [],
   "source": [
    "x_train, y_train = train\n",
    "x_test, y_test = test\n",
    "\n",
    "# Preproc the inputs\n",
    "x_train = preproc_x(x_train)\n",
    "x_test = preproc_x(x_test)\n",
    "\n",
    "# Preprc the outputs\n",
    "y_train = preproc_y(y_train)\n",
    "y_test = preproc_y(y_test)"
   ]
  },
  {
   "cell_type": "code",
   "execution_count": 5,
   "metadata": {},
   "outputs": [],
   "source": [
    "'''\n",
    "def build_mlp():\n",
    "    \"\"\"Code Here\n",
    "    建立你的神經網路\n",
    "    \"\"\"\n",
    "    return model\n",
    "'''\n",
    "from keras.layers import BatchNormalization\n",
    "\n",
    "\"\"\"\n",
    "建立神經網路，並加入 BN layer\n",
    "\"\"\"\n",
    "def build_mlp(input_shape, output_units=10, num_neurons=[512, 256, 128]):\n",
    "    input_layer = keras.layers.Input(input_shape)\n",
    "    \n",
    "    for i, n_units in enumerate(num_neurons):\n",
    "        if i == 0:\n",
    "            x = keras.layers.Dense(units=n_units, \n",
    "                                   activation=\"relu\", \n",
    "                                   name=\"hidden_layer\"+str(i+1))(input_layer)\n",
    "            x = BatchNormalization()(x)\n",
    "        else:\n",
    "            x = keras.layers.Dense(units=n_units, \n",
    "                                   activation=\"relu\", \n",
    "                                   name=\"hidden_layer\"+str(i+1))(x)\n",
    "            x = BatchNormalization()(x)\n",
    "    \n",
    "    out = keras.layers.Dense(units=output_units, activation=\"softmax\", name=\"output\")(x)\n",
    "    \n",
    "    model = keras.models.Model(inputs=[input_layer], outputs=[out])\n",
    "    return model"
   ]
  },
  {
   "cell_type": "code",
   "execution_count": 6,
   "metadata": {},
   "outputs": [],
   "source": [
    "\"\"\"Code Here\n",
    "設定超參數\n",
    "\"\"\"\n",
    "## 超參數設定\n",
    "LEARNING_RATE = 1e-3\n",
    "EPOCHS = 50\n",
    "BATCH_SIZE = 1024\n",
    "MOMENTUM = 0.95"
   ]
  },
  {
   "cell_type": "code",
   "execution_count": 7,
   "metadata": {},
   "outputs": [],
   "source": [
    "# 載入 Callbacks\n",
    "\"\"\"Code Here\n",
    "設定 callbacks: Earlystop\n",
    "\"\"\"\n",
    "\n",
    "results = {}\n",
    "\"\"\"Code Here\n",
    "撰寫你的訓練流程並將結果用 dictionary 紀錄\n",
    "\"\"\"\n",
    "\"\"\"\n",
    "# 載入 Callbacks, 並將 monitor 設定為監控 validation loss\n",
    "\"\"\"\n",
    "from keras.callbacks import EarlyStopping\n",
    "\n",
    "earlystop = EarlyStopping(monitor=\"val_loss\",  #monitor：需要监视的量\n",
    "                          patience=10,  #patience：当early stop被激活（如发现loss相比上一个epoch训练没有下降），则经过patience个epoch后停止训练。\n",
    "                          verbose=1 #verbose：信息展示模式\n",
    "                          )"
   ]
  },
  {
   "cell_type": "code",
   "execution_count": 11,
   "metadata": {},
   "outputs": [],
   "source": [
    "\"\"\"\n",
    "# 載入 Callbacks, 並將 monitor 設定為監控 validation loss\n",
    "\"\"\"\n",
    "from keras.callbacks import EarlyStopping\n",
    "\n",
    "earlystop = EarlyStopping(monitor=\"val_acc\",  #monitor：需要监视的量\n",
    "                          patience=25,  #patience：当early stop被激活（如发现loss相比上一个epoch训练没有下降），则经过patience个epoch后停止训练。\n",
    "                          verbose=1 #verbose：信息展示模式\n",
    "                          )"
   ]
  },
  {
   "cell_type": "code",
   "execution_count": 12,
   "metadata": {},
   "outputs": [
    {
     "name": "stdout",
     "output_type": "stream",
     "text": [
      "_________________________________________________________________\n",
      "Layer (type)                 Output Shape              Param #   \n",
      "=================================================================\n",
      "input_2 (InputLayer)         (None, 3072)              0         \n",
      "_________________________________________________________________\n",
      "hidden_layer1 (Dense)        (None, 512)               1573376   \n",
      "_________________________________________________________________\n",
      "batch_normalization_4 (Batch (None, 512)               2048      \n",
      "_________________________________________________________________\n",
      "hidden_layer2 (Dense)        (None, 256)               131328    \n",
      "_________________________________________________________________\n",
      "batch_normalization_5 (Batch (None, 256)               1024      \n",
      "_________________________________________________________________\n",
      "hidden_layer3 (Dense)        (None, 128)               32896     \n",
      "_________________________________________________________________\n",
      "batch_normalization_6 (Batch (None, 128)               512       \n",
      "_________________________________________________________________\n",
      "output (Dense)               (None, 10)                1290      \n",
      "=================================================================\n",
      "Total params: 1,742,474\n",
      "Trainable params: 1,740,682\n",
      "Non-trainable params: 1,792\n",
      "_________________________________________________________________\n",
      "Train on 50000 samples, validate on 10000 samples\n",
      "Epoch 1/50\n",
      "50000/50000 [==============================] - 11s 226us/step - loss: 2.1960 - acc: 0.2704 - val_loss: 2.0336 - val_acc: 0.3284\n",
      "Epoch 2/50\n",
      "50000/50000 [==============================] - 9s 176us/step - loss: 1.7509 - acc: 0.3882 - val_loss: 1.7928 - val_acc: 0.3790\n",
      "Epoch 3/50\n",
      "50000/50000 [==============================] - 9s 177us/step - loss: 1.6222 - acc: 0.4320 - val_loss: 1.7103 - val_acc: 0.4046\n",
      "Epoch 4/50\n",
      "50000/50000 [==============================] - 9s 175us/step - loss: 1.5477 - acc: 0.4603 - val_loss: 1.6332 - val_acc: 0.4274\n",
      "Epoch 5/50\n",
      "50000/50000 [==============================] - 9s 179us/step - loss: 1.4921 - acc: 0.4794 - val_loss: 1.5930 - val_acc: 0.4426\n",
      "Epoch 6/50\n",
      "50000/50000 [==============================] - 9s 176us/step - loss: 1.4445 - acc: 0.4988 - val_loss: 1.5691 - val_acc: 0.4538\n",
      "Epoch 7/50\n",
      "50000/50000 [==============================] - 9s 175us/step - loss: 1.4062 - acc: 0.5101 - val_loss: 1.5618 - val_acc: 0.4487\n",
      "Epoch 8/50\n",
      "50000/50000 [==============================] - 9s 175us/step - loss: 1.3706 - acc: 0.5246 - val_loss: 1.5302 - val_acc: 0.4564\n",
      "Epoch 9/50\n",
      "50000/50000 [==============================] - 9s 176us/step - loss: 1.3384 - acc: 0.5337 - val_loss: 1.5199 - val_acc: 0.4679\n",
      "Epoch 10/50\n",
      "50000/50000 [==============================] - 9s 173us/step - loss: 1.3074 - acc: 0.5451 - val_loss: 1.4990 - val_acc: 0.4700\n",
      "Epoch 11/50\n",
      "50000/50000 [==============================] - 8s 161us/step - loss: 1.2774 - acc: 0.5557 - val_loss: 1.5052 - val_acc: 0.4711\n",
      "Epoch 12/50\n",
      "50000/50000 [==============================] - 8s 166us/step - loss: 1.2519 - acc: 0.5665 - val_loss: 1.4779 - val_acc: 0.4768\n",
      "Epoch 13/50\n",
      "50000/50000 [==============================] - 9s 176us/step - loss: 1.2250 - acc: 0.5754 - val_loss: 1.4802 - val_acc: 0.4838\n",
      "Epoch 14/50\n",
      "50000/50000 [==============================] - 9s 175us/step - loss: 1.1975 - acc: 0.5857 - val_loss: 1.4763 - val_acc: 0.4759\n",
      "Epoch 15/50\n",
      "50000/50000 [==============================] - 9s 174us/step - loss: 1.1743 - acc: 0.5953 - val_loss: 1.4658 - val_acc: 0.4844\n",
      "Epoch 16/50\n",
      "50000/50000 [==============================] - 9s 176us/step - loss: 1.1495 - acc: 0.6045 - val_loss: 1.4562 - val_acc: 0.4900\n",
      "Epoch 17/50\n",
      "50000/50000 [==============================] - 9s 176us/step - loss: 1.1261 - acc: 0.6134 - val_loss: 1.4613 - val_acc: 0.4880\n",
      "Epoch 18/50\n",
      "50000/50000 [==============================] - 9s 176us/step - loss: 1.1021 - acc: 0.6223 - val_loss: 1.4628 - val_acc: 0.4915\n",
      "Epoch 19/50\n",
      "50000/50000 [==============================] - 9s 178us/step - loss: 1.0797 - acc: 0.6313 - val_loss: 1.4500 - val_acc: 0.4941\n",
      "Epoch 20/50\n",
      "50000/50000 [==============================] - 9s 175us/step - loss: 1.0574 - acc: 0.6385 - val_loss: 1.4520 - val_acc: 0.4948\n",
      "Epoch 21/50\n",
      "50000/50000 [==============================] - 9s 176us/step - loss: 1.0368 - acc: 0.6469 - val_loss: 1.4442 - val_acc: 0.4960\n",
      "Epoch 22/50\n",
      "50000/50000 [==============================] - 9s 176us/step - loss: 1.0147 - acc: 0.6560 - val_loss: 1.4506 - val_acc: 0.4969\n",
      "Epoch 23/50\n",
      "50000/50000 [==============================] - 9s 176us/step - loss: 0.9916 - acc: 0.6663 - val_loss: 1.4564 - val_acc: 0.4977\n",
      "Epoch 24/50\n",
      "50000/50000 [==============================] - 9s 176us/step - loss: 0.9724 - acc: 0.6721 - val_loss: 1.4503 - val_acc: 0.4977\n",
      "Epoch 25/50\n",
      "50000/50000 [==============================] - 9s 175us/step - loss: 0.9473 - acc: 0.6820 - val_loss: 1.4442 - val_acc: 0.4949\n",
      "Epoch 26/50\n",
      "50000/50000 [==============================] - 9s 171us/step - loss: 0.9263 - acc: 0.6900 - val_loss: 1.4608 - val_acc: 0.4956\n",
      "Epoch 27/50\n",
      "50000/50000 [==============================] - 9s 174us/step - loss: 0.9062 - acc: 0.6990 - val_loss: 1.4611 - val_acc: 0.4951\n",
      "Epoch 28/50\n",
      "50000/50000 [==============================] - 9s 177us/step - loss: 0.8858 - acc: 0.7072 - val_loss: 1.4637 - val_acc: 0.5008\n",
      "Epoch 29/50\n",
      "50000/50000 [==============================] - 9s 176us/step - loss: 0.8649 - acc: 0.7153 - val_loss: 1.4573 - val_acc: 0.4983\n",
      "Epoch 30/50\n",
      "50000/50000 [==============================] - 9s 176us/step - loss: 0.8431 - acc: 0.7239 - val_loss: 1.4927 - val_acc: 0.4904\n",
      "Epoch 31/50\n",
      "50000/50000 [==============================] - 9s 176us/step - loss: 0.8242 - acc: 0.7314 - val_loss: 1.4859 - val_acc: 0.4941\n",
      "Epoch 32/50\n",
      "50000/50000 [==============================] - 9s 176us/step - loss: 0.8049 - acc: 0.7393 - val_loss: 1.4885 - val_acc: 0.4978\n",
      "Epoch 33/50\n",
      "50000/50000 [==============================] - 9s 177us/step - loss: 0.7847 - acc: 0.7467 - val_loss: 1.4938 - val_acc: 0.4929\n",
      "Epoch 34/50\n",
      "50000/50000 [==============================] - 9s 177us/step - loss: 0.7658 - acc: 0.7528 - val_loss: 1.5065 - val_acc: 0.4950\n",
      "Epoch 35/50\n",
      "50000/50000 [==============================] - 9s 175us/step - loss: 0.7461 - acc: 0.7630 - val_loss: 1.4992 - val_acc: 0.4980\n",
      "Epoch 36/50\n",
      "50000/50000 [==============================] - 9s 179us/step - loss: 0.7258 - acc: 0.7719 - val_loss: 1.5077 - val_acc: 0.4982\n",
      "Epoch 37/50\n",
      "50000/50000 [==============================] - 9s 176us/step - loss: 0.7055 - acc: 0.7803 - val_loss: 1.5095 - val_acc: 0.5020\n",
      "Epoch 38/50\n",
      "50000/50000 [==============================] - 9s 176us/step - loss: 0.6884 - acc: 0.7849 - val_loss: 1.5295 - val_acc: 0.4936\n",
      "Epoch 39/50\n",
      "50000/50000 [==============================] - 9s 177us/step - loss: 0.6705 - acc: 0.7925 - val_loss: 1.5452 - val_acc: 0.4931\n",
      "Epoch 40/50\n",
      "50000/50000 [==============================] - 9s 174us/step - loss: 0.6513 - acc: 0.8005 - val_loss: 1.5571 - val_acc: 0.4922\n",
      "Epoch 41/50\n",
      "50000/50000 [==============================] - 9s 175us/step - loss: 0.6333 - acc: 0.8068 - val_loss: 1.5727 - val_acc: 0.4904\n",
      "Epoch 42/50\n",
      "50000/50000 [==============================] - 9s 177us/step - loss: 0.6146 - acc: 0.8174 - val_loss: 1.5589 - val_acc: 0.5003\n",
      "Epoch 43/50\n",
      "50000/50000 [==============================] - 9s 176us/step - loss: 0.5948 - acc: 0.8222 - val_loss: 1.5802 - val_acc: 0.4917\n",
      "Epoch 44/50\n",
      "50000/50000 [==============================] - 9s 177us/step - loss: 0.5762 - acc: 0.8310 - val_loss: 1.5781 - val_acc: 0.5013\n",
      "Epoch 45/50\n",
      "50000/50000 [==============================] - 9s 177us/step - loss: 0.5604 - acc: 0.8355 - val_loss: 1.6185 - val_acc: 0.4916\n",
      "Epoch 46/50\n",
      "50000/50000 [==============================] - 9s 175us/step - loss: 0.5452 - acc: 0.8422 - val_loss: 1.6226 - val_acc: 0.4970\n",
      "Epoch 47/50\n",
      "50000/50000 [==============================] - 8s 163us/step - loss: 0.5266 - acc: 0.8501 - val_loss: 1.6463 - val_acc: 0.4927\n",
      "Epoch 48/50\n",
      "50000/50000 [==============================] - 8s 159us/step - loss: 0.5101 - acc: 0.8556 - val_loss: 1.6370 - val_acc: 0.4919\n",
      "Epoch 49/50\n"
     ]
    },
    {
     "name": "stdout",
     "output_type": "stream",
     "text": [
      "50000/50000 [==============================] - 9s 176us/step - loss: 0.4925 - acc: 0.8635 - val_loss: 1.6455 - val_acc: 0.4949\n",
      "Epoch 50/50\n",
      "50000/50000 [==============================] - 9s 176us/step - loss: 0.4756 - acc: 0.8698 - val_loss: 1.6699 - val_acc: 0.4902\n"
     ]
    }
   ],
   "source": [
    "model = build_mlp(input_shape=x_train.shape[1:])\n",
    "model.summary()\n",
    "optimizer = keras.optimizers.SGD(lr=LEARNING_RATE, nesterov=True, momentum=MOMENTUM)\n",
    "model.compile(loss=\"categorical_crossentropy\", metrics=[\"accuracy\"], optimizer=optimizer)\n",
    "\n",
    "model.fit(x_train, y_train, \n",
    "          epochs=EPOCHS, \n",
    "          batch_size=BATCH_SIZE, \n",
    "          validation_data=(x_test, y_test), \n",
    "          shuffle=True,\n",
    "          callbacks=[earlystop]\n",
    "         )\n",
    "\n",
    "# Collect results\n",
    "train_loss = model.history.history[\"loss\"]\n",
    "valid_loss = model.history.history[\"val_loss\"]\n",
    "train_acc = model.history.history[\"acc\"]\n",
    "valid_acc = model.history.history[\"val_acc\"]"
   ]
  },
  {
   "cell_type": "code",
   "execution_count": 13,
   "metadata": {},
   "outputs": [
    {
     "data": {
      "image/png": "[encoded data removed]",
      "text/plain": [
       "<Figure size 432x288 with 1 Axes>"
      ]
     },
     "metadata": {
      "needs_background": "light"
     },
     "output_type": "display_data"
    },
    {
     "data": {
      "image/png": "[encoded data removed]",
      "text/plain": [
       "<Figure size 432x288 with 1 Axes>"
      ]
     },
     "metadata": {
      "needs_background": "light"
     },
     "output_type": "display_data"
    }
   ],
   "source": [
    "import matplotlib.pyplot as plt\n",
    "%matplotlib inline\n",
    "\n",
    "plt.plot(range(len(train_loss)), train_loss, label=\"train loss\")\n",
    "plt.plot(range(len(valid_loss)), valid_loss, label=\"valid loss\")\n",
    "plt.legend()\n",
    "plt.title(\"Loss\")\n",
    "plt.show()\n",
    "\n",
    "plt.plot(range(len(train_acc)), train_acc, label=\"train accuracy\")\n",
    "plt.plot(range(len(valid_acc)), valid_acc, label=\"valid accuracy\")\n",
    "plt.legend()\n",
    "plt.title(\"Accuracy\")\n",
    "plt.show()"
   ]
  },
  {
   "cell_type": "code",
   "execution_count": null,
   "metadata": {},
   "outputs": [],
   "source": []
  }
 ],
 "metadata": {
  "kernelspec": {
   "display_name": "Python 3",
   "language": "python",
   "name": "python3"
  },
  "language_info": {
   "codemirror_mode": {
    "name": "ipython",
    "version": 3
   },
   "file_extension": ".py",
   "mimetype": "text/x-python",
   "name": "python",
   "nbconvert_exporter": "python",
   "pygments_lexer": "ipython3",
   "version": "3.7.3"
  }
 },
 "nbformat": 4,
 "nbformat_minor": 2
}

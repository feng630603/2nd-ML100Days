{
 "cells": [
  {
   "cell_type": "code",
   "execution_count": 1,
   "metadata": {},
   "outputs": [
    {
     "name": "stderr",
     "output_type": "stream",
     "text": [
      "Using TensorFlow backend.\n"
     ]
    }
   ],
   "source": [
    "import keras\n",
    "from keras.datasets import cifar10\n",
    "from keras.preprocessing.image import ImageDataGenerator\n",
    "from keras.models import Sequential\n",
    "from keras.layers import Dense, Dropout, Activation, Flatten\n",
    "from keras.layers import Conv2D, MaxPooling2D\n",
    "from keras.optimizers import RMSprop, Adam\n",
    "import os"
   ]
  },
  {
   "cell_type": "code",
   "execution_count": 2,
   "metadata": {},
   "outputs": [
    {
     "name": "stdout",
     "output_type": "stream",
     "text": [
      "x_train shape: (50000, 32, 32, 3)\n",
      "50000 train samples\n",
      "10000 test samples\n"
     ]
    }
   ],
   "source": [
    "batch_size = 128 # batch 的大小，如果出現 OOM error，請降低這個值\n",
    "num_classes = 10 # 類別的數量，Cifar 10 共有 10 個類別\n",
    "epochs = 10 # 訓練的 epochs 數量\n",
    "\n",
    "# 讀取資料並檢視\n",
    "(x_train, y_train), (x_test, y_test) = cifar10.load_data()\n",
    "print('x_train shape:', x_train.shape)#shape 形狀\n",
    "print(x_train.shape[0], 'train samples')\n",
    "print(x_test.shape[0], 'test samples')\n",
    "\n",
    "# 對 label 進行 one-hot encoding (y_trian 原本是純數字) # classes 影像類別數\n",
    "y_train = keras.utils.to_categorical(y_train, num_classes) #keras.utils.to_categorical函數：是把類別標籤轉換爲onehot編碼（categorical就是類別標籤的意思，表示現實世界中你分類的各類別）， 而onehot編碼是一種方便計算機處理的二元編碼。**\n",
    "y_test = keras.utils.to_categorical(y_test, num_classes)"
   ]
  },
  {
   "cell_type": "code",
   "execution_count": 3,
   "metadata": {},
   "outputs": [
    {
     "name": "stdout",
     "output_type": "stream",
     "text": [
      "50000 train samples\n",
      "10000 test samples\n"
     ]
    }
   ],
   "source": [
    "#首先我們使用一般的 DNN (MLP) 來訓練\n",
    "#由於 DNN 只能輸入一維的資料，我們要先將影像進行攤平，若 (50000, 32, 32, 3) 的影像，攤平後會變成 (50000, 32323) = (50000, 3072)\n",
    "# 將資料攤平成一維資料\n",
    "x_train = x_train.reshape(50000, 3072)  #重塑\n",
    "x_test = x_test.reshape(10000, 3072)\n",
    "\n",
    "# 將資料變為 float32 並標準化\n",
    "x_train = x_train.astype('float32')\n",
    "x_test = x_test.astype('float32')\n",
    "x_train /= 255\n",
    "x_test /= 255\n",
    "print(x_train.shape[0], 'train samples')\n",
    "print(x_test.shape[0], 'test samples')\n"
   ]
  },
  {
   "cell_type": "code",
   "execution_count": 4,
   "metadata": {},
   "outputs": [
    {
     "name": "stdout",
     "output_type": "stream",
     "text": [
      "WARNING:tensorflow:From C:\\ProgramData\\Anaconda3\\lib\\site-packages\\tensorflow\\python\\framework\\op_def_library.py:263: colocate_with (from tensorflow.python.framework.ops) is deprecated and will be removed in a future version.\n",
      "Instructions for updating:\n",
      "Colocations handled automatically by placer.\n",
      "WARNING:tensorflow:From C:\\ProgramData\\Anaconda3\\lib\\site-packages\\keras\\backend\\tensorflow_backend.py:3445: calling dropout (from tensorflow.python.ops.nn_ops) with keep_prob is deprecated and will be removed in a future version.\n",
      "Instructions for updating:\n",
      "Please use `rate` instead of `keep_prob`. Rate should be set to `rate = 1 - keep_prob`.\n",
      "_________________________________________________________________\n",
      "Layer (type)                 Output Shape              Param #   \n",
      "=================================================================\n",
      "dense_1 (Dense)              (None, 1024)              3146752   \n",
      "_________________________________________________________________\n",
      "dropout_1 (Dropout)          (None, 1024)              0         \n",
      "_________________________________________________________________\n",
      "dense_2 (Dense)              (None, 1024)              1049600   \n",
      "_________________________________________________________________\n",
      "dropout_2 (Dropout)          (None, 1024)              0         \n",
      "_________________________________________________________________\n",
      "dense_3 (Dense)              (None, 10)                10250     \n",
      "=================================================================\n",
      "Total params: 4,206,602\n",
      "Trainable params: 4,206,602\n",
      "Non-trainable params: 0\n",
      "_________________________________________________________________\n",
      "WARNING:tensorflow:From C:\\ProgramData\\Anaconda3\\lib\\site-packages\\tensorflow\\python\\ops\\math_ops.py:3066: to_int32 (from tensorflow.python.ops.math_ops) is deprecated and will be removed in a future version.\n",
      "Instructions for updating:\n",
      "Use tf.cast instead.\n",
      "Train on 50000 samples, validate on 10000 samples\n",
      "Epoch 1/10\n",
      "50000/50000 [==============================] - 31s 617us/step - loss: 3.6670 - acc: 0.2272 - val_loss: 1.9034 - val_acc: 0.2953\n",
      "Epoch 2/10\n",
      "50000/50000 [==============================] - 29s 589us/step - loss: 1.8535 - acc: 0.3281 - val_loss: 1.7580 - val_acc: 0.3678\n",
      "Epoch 3/10\n",
      "50000/50000 [==============================] - 29s 584us/step - loss: 1.7741 - acc: 0.3624 - val_loss: 1.6873 - val_acc: 0.3915\n",
      "Epoch 4/10\n",
      "50000/50000 [==============================] - 30s 597us/step - loss: 1.7243 - acc: 0.3830 - val_loss: 1.6281 - val_acc: 0.4284\n",
      "Epoch 5/10\n",
      "50000/50000 [==============================] - 30s 599us/step - loss: 1.6827 - acc: 0.4002 - val_loss: 1.6055 - val_acc: 0.4281\n",
      "Epoch 6/10\n",
      "50000/50000 [==============================] - 30s 596us/step - loss: 1.6575 - acc: 0.4084 - val_loss: 1.6701 - val_acc: 0.4035\n",
      "Epoch 7/10\n",
      "50000/50000 [==============================] - 29s 588us/step - loss: 1.6305 - acc: 0.4159 - val_loss: 1.5669 - val_acc: 0.4480\n",
      "Epoch 8/10\n",
      "50000/50000 [==============================] - 30s 596us/step - loss: 1.6089 - acc: 0.4264 - val_loss: 1.5773 - val_acc: 0.4524\n",
      "Epoch 9/10\n",
      "50000/50000 [==============================] - 29s 589us/step - loss: 1.6006 - acc: 0.4328 - val_loss: 1.5648 - val_acc: 0.4415\n",
      "Epoch 10/10\n",
      "50000/50000 [==============================] - 30s 594us/step - loss: 1.5812 - acc: 0.4381 - val_loss: 1.5941 - val_acc: 0.4281\n",
      "Test loss: 1.5941314617156983\n",
      "Test accuracy: 0.4281\n"
     ]
    }
   ],
   "source": [
    "model = Sequential()\n",
    "model.add(Dense(1024, activation='relu', input_shape=(3072,)))\n",
    "model.add(Dropout(0.2))\n",
    "model.add(Dense(1024, activation='relu'))\n",
    "model.add(Dropout(0.2))\n",
    "model.add(Dense(num_classes, activation='softmax'))\n",
    "\n",
    "model.summary()\n",
    "\n",
    "model.compile(loss='categorical_crossentropy',\n",
    "              optimizer=RMSprop(),\n",
    "              metrics=['accuracy'])\n",
    "\n",
    "history = model.fit(x_train, y_train,\n",
    "                    batch_size=batch_size,\n",
    "                    epochs=epochs,\n",
    "                    verbose=1,\n",
    "                    validation_data=(x_test, y_test))\n",
    "score = model.evaluate(x_test, y_test, verbose=0)\n",
    "print('Test loss:', score[0])\n",
    "print('Test accuracy:', score[1])\n",
    "#模型摘要\n",
    " #順序\n",
    "#dropout是CNN中防止过拟合 dropout是指在深度学习网络的训练过程中，对于神经网络单元，按照一定的概率将其暂时从网络中丢弃。注意是暂时，对于随机梯度下降来说，由于是随机丢弃，故而每一个mini-batch都在训练不同的网络。\n",
    "##Dense就是常用的全连接层 activation是逐元素计算的激活函数 #Input()用于实例化Keras张量.  shape值(2,)，意思是一维数组，数组中有2个元素\n",
    "#compile() 函数将一个字符串编译为字节代码。 #categorical_crossentropy：亦称作多类的对数损失，注意使用该目标函数时，需要将标签转化为形如(nb_samples, nb_classes)的二值序列\n",
    "#optimizer優化 RMSprop優化器的一種\n",
    "# metrics 指標 = accuracy 準確性\n",
    "#History.history 属性是连续 epoch 训练损失和评估值，以及验证集损失和评估值的记录（如果适用）\n",
    "#validation 驗證 # verbose = 1 为输出进度条记录\n",
    "#fit：原義指的是安裝、使適合的意思，其實有點train的含義但是和train不同的是，它並不是一個訓練的過程，而是一個適配的過程，過程都是定死的，最後只是得到了一個統一的轉換的規則模型。"
   ]
  },
  {
   "cell_type": "code",
   "execution_count": null,
   "metadata": {},
   "outputs": [],
   "source": [
    "#接下來我們使用 CNN 來訓練神經網路\n",
    "#CNN 的原理非常適合處理影像類的資料，就讓我們來看看，同樣的訓練條件，CNN 是否顯著優於 DNN 呢?"
   ]
  },
  {
   "cell_type": "code",
   "execution_count": 5,
   "metadata": {},
   "outputs": [
    {
     "name": "stdout",
     "output_type": "stream",
     "text": [
      "x_train shape: (50000, 32, 32, 3)\n",
      "50000 train samples\n",
      "10000 test samples\n"
     ]
    }
   ],
   "source": [
    "(x_train, y_train), (x_test, y_test) = cifar10.load_data()\n",
    "print('x_train shape:', x_train.shape) ##shape 形狀\n",
    "print(x_train.shape[0], 'train samples')\n",
    "print(x_test.shape[0], 'test samples')\n",
    "x_train = x_train.astype('float32')\n",
    "x_test = x_test.astype('float32')\n",
    "x_train /= 255\n",
    "x_test /= 255\n",
    "\n",
    "# Convert class vectors to binary class matrices.\n",
    "y_train = keras.utils.to_categorical(y_train, num_classes)\n",
    "y_test = keras.utils.to_categorical(y_test, num_classes)"
   ]
  },
  {
   "cell_type": "code",
   "execution_count": 6,
   "metadata": {},
   "outputs": [
    {
     "name": "stdout",
     "output_type": "stream",
     "text": [
      "_________________________________________________________________\n",
      "Layer (type)                 Output Shape              Param #   \n",
      "=================================================================\n",
      "conv2d_1 (Conv2D)            (None, 32, 32, 16)        448       \n",
      "_________________________________________________________________\n",
      "activation_1 (Activation)    (None, 32, 32, 16)        0         \n",
      "_________________________________________________________________\n",
      "conv2d_2 (Conv2D)            (None, 30, 30, 16)        2320      \n",
      "_________________________________________________________________\n",
      "activation_2 (Activation)    (None, 30, 30, 16)        0         \n",
      "_________________________________________________________________\n",
      "max_pooling2d_1 (MaxPooling2 (None, 15, 15, 16)        0         \n",
      "_________________________________________________________________\n",
      "dropout_3 (Dropout)          (None, 15, 15, 16)        0         \n",
      "_________________________________________________________________\n",
      "conv2d_3 (Conv2D)            (None, 15, 15, 64)        9280      \n",
      "_________________________________________________________________\n",
      "activation_3 (Activation)    (None, 15, 15, 64)        0         \n",
      "_________________________________________________________________\n",
      "conv2d_4 (Conv2D)            (None, 13, 13, 64)        36928     \n",
      "_________________________________________________________________\n",
      "activation_4 (Activation)    (None, 13, 13, 64)        0         \n",
      "_________________________________________________________________\n",
      "max_pooling2d_2 (MaxPooling2 (None, 6, 6, 64)          0         \n",
      "_________________________________________________________________\n",
      "dropout_4 (Dropout)          (None, 6, 6, 64)          0         \n",
      "_________________________________________________________________\n",
      "flatten_1 (Flatten)          (None, 2304)              0         \n",
      "_________________________________________________________________\n",
      "dense_4 (Dense)              (None, 512)               1180160   \n",
      "_________________________________________________________________\n",
      "activation_5 (Activation)    (None, 512)               0         \n",
      "_________________________________________________________________\n",
      "dropout_5 (Dropout)          (None, 512)               0         \n",
      "_________________________________________________________________\n",
      "dense_5 (Dense)              (None, 10)                5130      \n",
      "_________________________________________________________________\n",
      "activation_6 (Activation)    (None, 10)                0         \n",
      "=================================================================\n",
      "Total params: 1,234,266\n",
      "Trainable params: 1,234,266\n",
      "Non-trainable params: 0\n",
      "_________________________________________________________________\n",
      "Train on 50000 samples, validate on 10000 samples\n",
      "Epoch 1/10\n",
      "50000/50000 [==============================] - 226s 5ms/step - loss: 1.7012 - acc: 0.3830 - val_loss: 1.3216 - val_acc: 0.5317\n",
      "Epoch 2/10\n",
      "50000/50000 [==============================] - 225s 4ms/step - loss: 1.3207 - acc: 0.5315 - val_loss: 1.1642 - val_acc: 0.5819\n",
      "Epoch 3/10\n",
      "50000/50000 [==============================] - 225s 4ms/step - loss: 1.1469 - acc: 0.5971 - val_loss: 1.0935 - val_acc: 0.6109\n",
      "Epoch 4/10\n",
      "50000/50000 [==============================] - 225s 4ms/step - loss: 1.0358 - acc: 0.6359 - val_loss: 0.9209 - val_acc: 0.6773\n",
      "Epoch 5/10\n",
      "50000/50000 [==============================] - 224s 4ms/step - loss: 0.9497 - acc: 0.6686 - val_loss: 0.9689 - val_acc: 0.6621\n",
      "Epoch 6/10\n",
      "50000/50000 [==============================] - 225s 4ms/step - loss: 0.8874 - acc: 0.6899 - val_loss: 0.7979 - val_acc: 0.7228\n",
      "Epoch 7/10\n",
      "50000/50000 [==============================] - 225s 4ms/step - loss: 0.8369 - acc: 0.7083 - val_loss: 0.8111 - val_acc: 0.7181\n",
      "Epoch 8/10\n",
      "50000/50000 [==============================] - 225s 4ms/step - loss: 0.7891 - acc: 0.7245 - val_loss: 0.8136 - val_acc: 0.7182\n",
      "Epoch 9/10\n",
      "50000/50000 [==============================] - 225s 4ms/step - loss: 0.7617 - acc: 0.7349 - val_loss: 0.8440 - val_acc: 0.7087\n",
      "Epoch 10/10\n",
      "50000/50000 [==============================] - 224s 4ms/step - loss: 0.7340 - acc: 0.7466 - val_loss: 0.7837 - val_acc: 0.7456\n",
      "Test loss: 0.783709536743164\n",
      "Test accuracy: 0.7456\n"
     ]
    }
   ],
   "source": [
    "model = Sequential()\n",
    "model.add(Conv2D(16, (3, 3), padding='same', #padding 填充\n",
    "                 input_shape=x_train.shape[1:]))\n",
    "model.add(Activation('relu'))\n",
    "model.add(Conv2D(16, (3, 3))) #二維(Conv2D)\n",
    "model.add(Activation('relu'))\n",
    "model.add(MaxPooling2D(pool_size=(2, 2))) # MaxPooling2D 池化層 #pool_size: 整数，或者 2 个整数表示的元组， 沿（垂直，水平）方向缩小比例的因数。 （2，2）会把输入张量的两个维度都缩小一半。 如果只使用一个整数，那么两个维度都会使用同样的窗口长度。\n",
    "model.add(Dropout(0.25))\n",
    "#dropout是CNN中防止过拟合 dropout是指在深度学习网络的训练过程中，对于神经网络单元，按照一定的概率将其暂时从网络中丢弃。注意是暂时，对于随机梯度下降来说，由于是随机丢弃，故而每一个mini-batch都在训练不同的网络。\n",
    "model.add(Conv2D(64, (3, 3), padding='same'))\n",
    "model.add(Activation('relu'))\n",
    "model.add(Conv2D(64, (3, 3)))\n",
    "model.add(Activation('relu'))\n",
    "model.add(MaxPooling2D(pool_size=(2, 2)))\n",
    "model.add(Dropout(0.25))\n",
    "\n",
    "model.add(Flatten())#Flatten 平坦層\n",
    "model.add(Dense(512))\n",
    "model.add(Activation('relu'))\n",
    "model.add(Dropout(0.5))\n",
    "model.add(Dense(num_classes))\n",
    "model.add(Activation('softmax'))\n",
    "model.summary()\n",
    "\n",
    "model.compile(loss='categorical_crossentropy',\n",
    "              optimizer=RMSprop(),\n",
    "              metrics=['accuracy'])\n",
    "\n",
    "history = model.fit(x_train, y_train,\n",
    "                    batch_size=batch_size,\n",
    "                    epochs=epochs,\n",
    "                    verbose=1,\n",
    "                    validation_data=(x_test, y_test))\n",
    "score = model.evaluate(x_test, y_test, verbose=0)\n",
    "print('Test loss:', score[0])\n",
    "print('Test accuracy:', score[1])"
   ]
  },
  {
   "cell_type": "code",
   "execution_count": 1,
   "metadata": {},
   "outputs": [],
   "source": [
    "#同樣運算 10 個 epochs，但 CNN 在 test data 的準確率顯著優於 DNN!#\n",
    "#作業\n",
    "請試著調整各個超參數，並說明那些超參數對於結果有明顯的影響?\n",
    "CNN\n",
    "Test loss: 1.5941314617156983\n",
    "Test accuracy: 0.4281\n",
    "DNN\n",
    "Test loss: 0.783709536743164\n",
    "Test accuracy: 0.7456\n",
    "\n",
    "    \n",
    "#CNN 與 DNN 哪個模型的參數數量比較多? 造成參數的數量不同的原因在哪?\n",
    "DNN，主要是DenseLayer的參數量大，在CNN裡也是最後的DenseLayer佔大部分的參數量"
   ]
  },
  {
   "cell_type": "code",
   "execution_count": null,
   "metadata": {},
   "outputs": [],
   "source": []
  }
 ],
 "metadata": {
  "kernelspec": {
   "display_name": "Python 3",
   "language": "python",
   "name": "python3"
  },
  "language_info": {
   "codemirror_mode": {
    "name": "ipython",
    "version": 3
   },
   "file_extension": ".py",
   "mimetype": "text/x-python",
   "name": "python",
   "nbconvert_exporter": "python",
   "pygments_lexer": "ipython3",
   "version": "3.7.3"
  }
 },
 "nbformat": 4,
 "nbformat_minor": 2
}

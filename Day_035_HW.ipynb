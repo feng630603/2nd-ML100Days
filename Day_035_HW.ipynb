{
 "cells": [
  {
   "cell_type": "code",
   "execution_count": null,
   "metadata": {},
   "outputs": [],
   "source": [
    "請搜尋目標為多標籤問題 (Multi-label) 的機器學習案例，了解其資料來源、目標以及評估指標為何\n",
    "Hint: 服飾\n",
    "    資料來源:基於電影海報的流派的多標籤分類\n",
    "    目標:惡意評論分類是具有高度不平衡數據集的多標籤文本分類問題\n",
    "    評詁指標:單標籤的評估措施通常與多標籤不同。在單標籤分類中，我們使用簡單的度量標準，如精度，召回率，準確度等\n",
    "            微平均和宏平均\n",
    "            完全匹配率（子集精度）\n",
    "\n",
    "原文網址：https://kknews.cc/zh-tw/other/4l5rm9x.html"
   ]
  }
 ],
 "metadata": {
  "kernelspec": {
   "display_name": "Python 3",
   "language": "python",
   "name": "python3"
  },
  "language_info": {
   "codemirror_mode": {
    "name": "ipython",
    "version": 3
   },
   "file_extension": ".py",
   "mimetype": "text/x-python",
   "name": "python",
   "nbconvert_exporter": "python",
   "pygments_lexer": "ipython3",
   "version": "3.7.3"
  }
 },
 "nbformat": 4,
 "nbformat_minor": 2
}

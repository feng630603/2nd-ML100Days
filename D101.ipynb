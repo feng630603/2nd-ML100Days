{
 "cells": [
  {
   "cell_type": "code",
   "execution_count": null,
   "metadata": {},
   "outputs": [],
   "source": [
    "找不到 www.kaggle.com 網頁 找不到此網址的網頁：https://www.kaggle.com/account/authenticate/google/return?returnUrl=%2F&isModal=False#\n",
    "HTTP ERROR 404\n",
    "\n",
    "\n",
    "Your request (28224) has been received and is being reviewed by our support staff.\n",
    "\n",
    "To add additional comments, reply to this email.\n",
    "\n",
    "kaggle 進不去了 不知道原因 已經有寫信跟kabble 反應了"
   ]
  }
 ],
 "metadata": {
  "kernelspec": {
   "display_name": "Python 3",
   "language": "python",
   "name": "python3"
  },
  "language_info": {
   "codemirror_mode": {
    "name": "ipython",
    "version": 3
   },
   "file_extension": ".py",
   "mimetype": "text/x-python",
   "name": "python",
   "nbconvert_exporter": "python",
   "pygments_lexer": "ipython3",
   "version": "3.7.3"
  }
 },
 "nbformat": 4,
 "nbformat_minor": 2
}

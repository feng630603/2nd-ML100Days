{
 "cells": [
  {
   "cell_type": "code",
   "execution_count": 1,
   "metadata": {},
   "outputs": [],
   "source": [
    "import numpy as np\n",
    "import matplotlib.pyplot as plt\n",
    "from mpl_toolkits.mplot3d import Axes3D\n",
    "\n",
    "\n",
    "from sklearn import decomposition\n",
    "from sklearn import datasets\n",
    "\n",
    "np.random.seed(5)\n",
    "%matplotlib inline"
   ]
  },
  {
   "cell_type": "code",
   "execution_count": null,
   "metadata": {},
   "outputs": [],
   "source": [
    "from sklearn import datasets\n",
    "\n",
    "digits = datasets.load_digits(n_class=5)\n",
    "X = digits.data\n",
    "y = digits.target"
   ]
  },
  {
   "cell_type": "code",
   "execution_count": null,
   "metadata": {},
   "outputs": [],
   "source": [
    "centers = [[1, 1], [-1, -1], [1, -1]]\n",
    "pca = decomposition.PCA(n_components=3) #主成分分析（PCA）\n"
   ]
  },
  {
   "cell_type": "code",
   "execution_count": null,
   "metadata": {},
   "outputs": [],
   "source": [
    "pca.fit(X)#pca.fit(X)，表示用X对pca这个对象进行训练\n",
    "X = pca.transform(X)\n",
    "'''\n",
    "copy ： bool（默認為True）\n",
    "如果為False，則傳遞給fit的數據將被覆蓋並且運行fit（X）.transform（X）將不會產生預期結果，請改用fit_transform（X）。\n",
    "'''\n",
    "\n",
    "\n",
    "fig = plt.figure(1, figsize=(4, 3)) # 設定圖形的大小（寬, 高）\n",
    "plt.clf()\n",
    "ax = Axes3D(fig, rect=[0, 0, .95, 1], elev=48, azim=134)#rect通过一个浮点数序列设置Axes的位置和大小\n",
    "#elev指定从哪个高度查看曲面,azim指定曲面旋转的角度\n",
    "plt.cla() ##清除当前Axes\n",
    "\n",
    "\n",
    "for name, label in [('Setosa', 0), ('Versicolour', 1), ('Virginica', 2)]:\n",
    "    ax.text3D(X[y == label, 0].mean(), #標簽\n",
    "              X[y == label, 1].mean() + 1.5,\n",
    "              X[y == label, 2].mean(), name,\n",
    "              horizontalalignment='center',\n",
    "              bbox=dict(alpha=.9, edgecolor='w', facecolor='w')) #邊界框\n",
    "# Reorder the labels to have colors matching the cluster results\n",
    "y = np.choose(y, [1, 2, 0]).astype(np.float)#.astype 資料的類型 如 int float float整数和字符串转换成浮点数。\n",
    "ax.scatter(X[:, 0], X[:, 1], X[:, 2], c=y, cmap=plt.cm.nipy_spectral,\n",
    "           edgecolor='k')\n",
    "## ax.scatter 绘制散点图\n",
    "#在上面的例子中，choose 将 0,1,2 对应的值映射为了 10, 11, 12，这里的 0,1,2 表示对应的下标。\n",
    "'''\n",
    "cmap=plt.cm.nipy_spectral\n",
    "内置的颜色地图。包含多个类：\n",
    "\n",
    "class matplotlib.cm.ScalarMappable(norm=None, cmap=None)\n",
    "这是一个mixin类，用于支持RGBA映射的标量数据。ScalarMappable在从给定的颜色映射返回RGBA颜色之前使用数据标准化。\n",
    "\n",
    "多个函数：\n",
    "\n",
    "matplotlib.cm.get_cmap(name=None, lut=None)\n",
    "matplotlib.cm.register_cmap(name=None, cmap=None, data=None, lut=None)\n",
    "matplotlib.cm.revcmap(data)\n",
    "'''\n",
    "\n",
    "ax.w_xaxis.set_ticklabels([]) #X的名稱\n",
    "ax.w_yaxis.set_ticklabels([])\n",
    "ax.w_zaxis.set_ticklabels([])\n",
    "\n",
    "plt.show()"
   ]
  },
  {
   "cell_type": "code",
   "execution_count": null,
   "metadata": {},
   "outputs": [],
   "source": []
  }
 ],
 "metadata": {
  "kernelspec": {
   "display_name": "Python 3",
   "language": "python",
   "name": "python3"
  },
  "language_info": {
   "codemirror_mode": {
    "name": "ipython",
    "version": 3
   },
   "file_extension": ".py",
   "mimetype": "text/x-python",
   "name": "python",
   "nbconvert_exporter": "python",
   "pygments_lexer": "ipython3",
   "version": "3.7.3"
  }
 },
 "nbformat": 4,
 "nbformat_minor": 2
}

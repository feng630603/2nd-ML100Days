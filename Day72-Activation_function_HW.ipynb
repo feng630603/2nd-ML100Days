{
 "cells": [
  {
   "cell_type": "code",
   "execution_count": null,
   "metadata": {},
   "outputs": [],
   "source": [
    "#作業目標:\n",
    "#寫出 ReLU & dReLU 一階導數\n",
    "#並列印\n",
    "#作業重點\n",
    "Rectified Linear Unit- Relu\n",
    "f(x)=max(0,x)"
   ]
  },
  {
   "cell_type": "code",
   "execution_count": 15,
   "metadata": {},
   "outputs": [
    {
     "data": {
      "image/png": "[encoded data removed]",
      "text/plain": [
       "<Figure size 432x288 with 1 Axes>"
      ]
     },
     "metadata": {
      "needs_background": "light"
     },
     "output_type": "display_data"
    }
   ],
   "source": [
    "import numpy as np\n",
    "from numpy import *\n",
    "import matplotlib.pylab as plt\n",
    "%matplotlib inline\n",
    "\n",
    "#Sigmoid 數學函數表示方式\n",
    "#sigmoid = lambda x: 1 / (1 + np.exp(-x))\n",
    "def ReLU (x):\n",
    "     return abs(x) * (x>0)  #指数函数是e ^ x,其中e是称为欧拉数的数学常数,大约为2.718281.该值与pi具有接近的数学关系,曲线的斜率e ^ x等于其在每个点的值. np.exp()为输入数组中x的每个值计算e ^ x.\n",
    "\n",
    "#Sigmoid 微分\n",
    "\n",
    "def dReLU(x):\n",
    "    return (1 *(x>0))\n",
    "\n",
    "# linespace generate an array from start and stop value\n",
    "# with requested number of elements. Example 10 elements or 100 elements.\n",
    "x = plt.linspace(-10,10,100)\n",
    "#linespace從start和stop值生成一個數組\n",
    "#具有請求的元素數量。 示例10元素或100個元素。\n",
    "\n",
    "# prepare the plot, associate the color r(ed) or b(lue) and the label \n",
    "#準備圖，關聯顏色r（ed）或b（lue）和標籤\n",
    "plt.plot(x, abs(x), 'b', label='linspace(-10,10,10)')\n",
    "#sigmoid(x) 就是一個函式 目前找不到幹嘛用的需要再查\n",
    "\n",
    "# Draw the grid line in background.\n",
    "plt.grid()\n",
    "#＃在後台繪製網格線。\n",
    "\n",
    "# 顯現圖示的Title\n",
    "plt.title('abs Function')\n",
    "\n",
    "# 顯現 the Sigmoid formula\n",
    "plt.text(4, 0.8, r'$\\sigma(x)=\\frac{1}{1+e^{-x}}$', fontsize=15)\n",
    "\n",
    "#resize the X and Y axes\n",
    "plt.gca().xaxis.set_major_locator(plt.MultipleLocator(5)) #plt.gca 就是繪圖用的 後面的.xazis....是給的他值\n",
    "#xaxis.set_major_locator(matplotlib.ticker.MultipleLocator(1))#1代表每隔1個\n",
    "plt.gca().yaxis.set_major_locator(plt.MultipleLocator(1))\n",
    " \n",
    "# create the graph\n",
    "plt.show()"
   ]
  },
  {
   "cell_type": "code",
   "execution_count": 16,
   "metadata": {},
   "outputs": [
    {
     "name": "stdout",
     "output_type": "stream",
     "text": [
      "[0.         0.         0.         0.         0.         0.\n",
      " 0.         0.         0.         0.         0.         0.\n",
      " 0.         0.         0.         0.         0.         0.\n",
      " 0.         0.         0.         0.         0.         0.\n",
      " 0.         0.         0.         0.         0.         0.\n",
      " 0.         0.         0.         0.         0.         0.\n",
      " 0.         0.         0.         0.         0.         0.\n",
      " 0.         0.         0.         0.         0.         0.\n",
      " 0.         0.         0.05050505 0.15151515 0.25252525 0.35353535\n",
      " 0.45454545 0.55555556 0.65656566 0.75757576 0.85858586 0.95959596\n",
      " 1.06060606 1.16161616 1.26262626 1.36363636 1.46464646 1.56565657\n",
      " 1.66666667 1.76767677 1.86868687 1.96969697 2.07070707 2.17171717\n",
      " 2.27272727 2.37373737 2.47474747 2.57575758 2.67676768 2.77777778\n",
      " 2.87878788 2.97979798 3.08080808 3.18181818 3.28282828 3.38383838\n",
      " 3.48484848 3.58585859 3.68686869 3.78787879 3.88888889 3.98989899\n",
      " 4.09090909 4.19191919 4.29292929 4.39393939 4.49494949 4.5959596\n",
      " 4.6969697  4.7979798  4.8989899  5.        ]\n"
     ]
    },
    {
     "data": {
      "image/png": "[encoded data removed]",
      "text/plain": [
       "<Figure size 432x288 with 1 Axes>"
      ]
     },
     "metadata": {
      "needs_background": "light"
     },
     "output_type": "display_data"
    },
    {
     "name": "stdout",
     "output_type": "stream",
     "text": [
      "[0 0 0 0 0 0 0 0 0 0 0 0 0 0 0 0 0 0 0 0 0 0 0 0 0 0 0 0 0 0 0 0 0 0 0 0 0\n",
      " 0 0 0 0 0 0 0 0 0 0 0 0 0 1 1 1 1 1 1 1 1 1 1 1 1 1 1 1 1 1 1 1 1 1 1 1 1\n",
      " 1 1 1 1 1 1 1 1 1 1 1 1 1 1 1 1 1 1 1 1 1 1 1 1 1 1]\n"
     ]
    },
    {
     "data": {
      "image/png": "[encoded data removed]",
      "text/plain": [
       "<Figure size 432x288 with 1 Axes>"
      ]
     },
     "metadata": {
      "needs_background": "light"
     },
     "output_type": "display_data"
    }
   ],
   "source": [
    "import numpy as np\n",
    "from numpy import *\n",
    "import matplotlib.pylab as plt\n",
    "%matplotlib inline\n",
    "\n",
    "'''\n",
    "作業:\n",
    "    寫出 ReLU & dReLU 一階導數\n",
    "    並列印\n",
    "'''\n",
    "\n",
    "#Softmax 數學函數表示方式\n",
    "def ReLU (x):\n",
    "     return abs(x) * (x>0)\n",
    "\n",
    "def dReLU(x):\n",
    "    return (1 *(x>0))\n",
    "#x=np.arange(0,1.0,0.01)\n",
    "x = plt.linspace(-5,5,100)\n",
    "#plt.linspace 在指定的间隔内返回均匀间隔的数字。\n",
    "\n",
    "#resize the X and Y axes 調整X和Y軸\n",
    "plt.gca().xaxis.set_major_locator(plt.MultipleLocator(1))\n",
    "#plt.gca().yaxis.set_major_locator(plt.MultipleLocator(1))\n",
    "#xaxis.set_major_locator(matplotlib.ticker.MultipleLocator(1))#1代表每隔1個\n",
    "\n",
    "\n",
    "#列印所有Softmax 值並輸出成一陣列\n",
    "print(ReLU(x))\n",
    "plt.plot(x, ReLU(x), 'r')\n",
    "plt.show()\n",
    "\n",
    "print(dReLU(x))\n",
    "plt.plot(x, dReLU(x), 'r')\n",
    "plt.show()\n"
   ]
  },
  {
   "cell_type": "code",
   "execution_count": null,
   "metadata": {},
   "outputs": [],
   "source": []
  },
  {
   "cell_type": "code",
   "execution_count": null,
   "metadata": {},
   "outputs": [],
   "source": []
  }
 ],
 "metadata": {
  "kernelspec": {
   "display_name": "Python 3",
   "language": "python",
   "name": "python3"
  },
  "language_info": {
   "codemirror_mode": {
    "name": "ipython",
    "version": 3
   },
   "file_extension": ".py",
   "mimetype": "text/x-python",
   "name": "python",
   "nbconvert_exporter": "python",
   "pygments_lexer": "ipython3",
   "version": "3.7.3"
  }
 },
 "nbformat": 4,
 "nbformat_minor": 2
}
